{
 "cells": [
  {
   "cell_type": "markdown",
   "metadata": {},
   "source": [
    "See privateGPT docs [here](https://docs.privategpt.dev/installation/getting-started/main-concepts)."
   ]
  },
  {
   "cell_type": "markdown",
   "metadata": {},
   "source": [
    "Basic example:\n",
    "\n",
    "```poetry install --extras \"ui vector-stores-qdrant llms-ollama embeddings-huggingface\".```"
   ]
  }
 ],
 "metadata": {
  "language_info": {
   "name": "python"
  }
 },
 "nbformat": 4,
 "nbformat_minor": 2
}
