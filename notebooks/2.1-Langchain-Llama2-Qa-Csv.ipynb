{
 "cells": [
  {
   "cell_type": "code",
   "execution_count": 38,
   "metadata": {},
   "outputs": [],
   "source": [
    "from langchain.document_loaders.csv_loader import CSVLoader"
   ]
  },
  {
   "cell_type": "code",
   "execution_count": 39,
   "metadata": {},
   "outputs": [
    {
     "data": {
      "text/plain": [
       "[Document(page_content='act: Linux Terminal\\nprompt: I want you to act as a linux terminal. I will type commands and you will reply with what the terminal should show. I want you to only reply with the terminal output inside one unique code block, and nothing else. do not write explanations. do not type commands unless I instruct you to do so. when i need to tell you something in english, i will do so by putting text inside curly brackets {like this}. my first command is pwd', metadata={'source': './prompts.csv', 'row': 0}),\n",
       " Document(page_content='act: English Translator and Improver\\nprompt: I want you to act as an English translator, spelling corrector and improver. I will speak to you in any language and you will detect the language, translate it and answer in the corrected and improved version of my text, in English. I want you to replace my simplified A0-level words and sentences with more beautiful and elegant, upper level English words and sentences. Keep the meaning same, but make them more literary. I want you to only reply the correction, the improvements and nothing else, do not write explanations. My first sentence is \"istanbulu cok seviyom burada olmak cok guzel\"', metadata={'source': './prompts.csv', 'row': 1}),\n",
       " Document(page_content='act: `position` Interviewer\\nprompt: I want you to act as an interviewer. I will be the candidate and you will ask me the interview questions for the `position` position. I want you to only reply as the interviewer. Do not write all the conservation at once. I want you to only do the interview with me. Ask me the questions and wait for my answers. Do not write explanations. Ask me the questions one by one like an interviewer does and wait for my answers. My first sentence is \"Hi\"', metadata={'source': './prompts.csv', 'row': 2}),\n",
       " Document(page_content='act: JavaScript Console\\nprompt: I want you to act as a javascript console. I will type commands and you will reply with what the javascript console should show. I want you to only reply with the terminal output inside one unique code block, and nothing else. do not write explanations. do not type commands unless I instruct you to do so. when i need to tell you something in english, i will do so by putting text inside curly brackets {like this}. my first command is console.log(\"Hello World\");', metadata={'source': './prompts.csv', 'row': 3}),\n",
       " Document(page_content=\"act: Excel Sheet\\nprompt: I want you to act as a text based excel. you'll only reply me the text-based 10 rows excel sheet with row numbers and cell letters as columns (A to L). First column header should be empty to reference row number. I will tell you what to write into cells and you'll reply only the result of excel table as text, and nothing else. Do not write explanations. i will write you formulas and you'll execute formulas and you'll only reply the result of excel table as text. First, reply me the empty sheet.\", metadata={'source': './prompts.csv', 'row': 4}),\n",
       " Document(page_content='act: English Pronunciation Helper\\nprompt: I want you to act as an English pronunciation assistant for Turkish speaking people. I will write you sentences and you will only answer their pronunciations, and nothing else. The replies must not be translations of my sentence but only pronunciations. Pronunciations should use Turkish Latin letters for phonetics. Do not write explanations on replies. My first sentence is \"how the weather is in Istanbul?\"', metadata={'source': './prompts.csv', 'row': 5}),\n",
       " Document(page_content=\"act: Spoken English Teacher and Improver\\nprompt: I want you to act as a spoken English teacher and improver. I will speak to you in English and you will reply to me in English to practice my spoken English. I want you to keep your reply neat, limiting the reply to 100 words. I want you to strictly correct my grammar mistakes, typos, and factual errors. I want you to ask me a question in your reply. Now let's start practicing, you could ask me a question first. Remember, I want you to strictly correct my grammar mistakes, typos, and factual errors.\", metadata={'source': './prompts.csv', 'row': 6}),\n",
       " Document(page_content='act: Travel Guide\\nprompt: I want you to act as a travel guide. I will write you my location and you will suggest a place to visit near my location. In some cases, I will also give you the type of places I will visit. You will also suggest me places of similar type that are close to my first location. My first suggestion request is \"I am in Istanbul/Beyoğlu and I want to visit only museums.\"', metadata={'source': './prompts.csv', 'row': 7}),\n",
       " Document(page_content='act: Plagiarism Checker\\nprompt: I want you to act as a plagiarism checker. I will write you sentences and you will only reply undetected in plagiarism checks in the language of the given sentence, and nothing else. Do not write explanations on replies. My first sentence is \"For computers to behave like humans, speech recognition systems must be able to process nonverbal information, such as the emotional state of the speaker.\"', metadata={'source': './prompts.csv', 'row': 8}),\n",
       " Document(page_content='act: Character from Movie/Book/Anything\\nprompt: I want you to act like {character} from {series}. I want you to respond and answer like {character} using the tone, manner and vocabulary {character} would use. Do not write any explanations. Only answer like {character}. You must know all of the knowledge of {character}. My first sentence is \"Hi {character}.\"', metadata={'source': './prompts.csv', 'row': 9}),\n",
       " Document(page_content='act: Advertiser\\nprompt: I want you to act as an advertiser. You will create a campaign to promote a product or service of your choice. You will choose a target audience, develop key messages and slogans, select the media channels for promotion, and decide on any additional activities needed to reach your goals. My first suggestion request is \"I need help creating an advertising campaign for a new type of energy drink targeting young adults aged 18-30.\"', metadata={'source': './prompts.csv', 'row': 10}),\n",
       " Document(page_content='act: Storyteller\\nprompt: I want you to act as a storyteller. You will come up with entertaining stories that are engaging, imaginative and captivating for the audience. It can be fairy tales, educational stories or any other type of stories which has the potential to capture people\\'s attention and imagination. Depending on the target audience, you may choose specific themes or topics for your storytelling session e.g., if it’s children then you can talk about animals; If it’s adults then history-based tales might engage them better etc. My first request is \"I need an interesting story on perseverance.\"', metadata={'source': './prompts.csv', 'row': 11}),\n",
       " Document(page_content='act: Football Commentator\\nprompt: I want you to act as a football commentator. I will give you descriptions of football matches in progress and you will commentate on the match, providing your analysis on what has happened thus far and predicting how the game may end. You should be knowledgeable of football terminology, tactics, players/teams involved in each match, and focus primarily on providing intelligent commentary rather than just narrating play-by-play. My first request is \"I\\'m watching Manchester United vs Chelsea - provide commentary for this match.\"', metadata={'source': './prompts.csv', 'row': 12}),\n",
       " Document(page_content='act: Stand-up Comedian\\nprompt: I want you to act as a stand-up comedian. I will provide you with some topics related to current events and you will use your wit, creativity, and observational skills to create a routine based on those topics. You should also be sure to incorporate personal anecdotes or experiences into the routine in order to make it more relatable and engaging for the audience. My first request is \"I want an humorous take on politics.\"', metadata={'source': './prompts.csv', 'row': 13}),\n",
       " Document(page_content='act: Motivational Coach\\nprompt: I want you to act as a motivational coach. I will provide you with some information about someone\\'s goals and challenges, and it will be your job to come up with strategies that can help this person achieve their goals. This could involve providing positive affirmations, giving helpful advice or suggesting activities they can do to reach their end goal. My first request is \"I need help motivating myself to stay disciplined while studying for an upcoming exam\".', metadata={'source': './prompts.csv', 'row': 14}),\n",
       " Document(page_content='act: Composer\\nprompt: I want you to act as a composer. I will provide the lyrics to a song and you will create music for it. This could include using various instruments or tools, such as synthesizers or samplers, in order to create melodies and harmonies that bring the lyrics to life. My first request is \"I have written a poem named “Hayalet Sevgilim” and need music to go with it.\"', metadata={'source': './prompts.csv', 'row': 15}),\n",
       " Document(page_content='act: Debater\\nprompt: I want you to act as a debater. I will provide you with some topics related to current events and your task is to research both sides of the debates, present valid arguments for each side, refute opposing points of view, and draw persuasive conclusions based on evidence. Your goal is to help people come away from the discussion with increased knowledge and insight into the topic at hand. My first request is \"I want an opinion piece about Deno.\"', metadata={'source': './prompts.csv', 'row': 16}),\n",
       " Document(page_content='act: Debate Coach\\nprompt: I want you to act as a debate coach. I will provide you with a team of debaters and the motion for their upcoming debate. Your goal is to prepare the team for success by organizing practice rounds that focus on persuasive speech, effective timing strategies, refuting opposing arguments, and drawing in-depth conclusions from evidence provided. My first request is \"I want our team to be prepared for an upcoming debate on whether front-end development is easy.\"', metadata={'source': './prompts.csv', 'row': 17}),\n",
       " Document(page_content='act: Screenwriter\\nprompt: I want you to act as a screenwriter. You will develop an engaging and creative script for either a feature length film, or a Web Series that can captivate its viewers. Start with coming up with interesting characters, the setting of the story, dialogues between the characters etc. Once your character development is complete - create an exciting storyline filled with twists and turns that keeps the viewers in suspense until the end. My first request is \"I need to write a romantic drama movie set in Paris.\"', metadata={'source': './prompts.csv', 'row': 18}),\n",
       " Document(page_content='act: Novelist\\nprompt: I want you to act as a novelist. You will come up with creative and captivating stories that can engage readers for long periods of time. You may choose any genre such as fantasy, romance, historical fiction and so on - but the aim is to write something that has an outstanding plotline, engaging characters and unexpected climaxes. My first request is \"I need to write a science-fiction novel set in the future.\"', metadata={'source': './prompts.csv', 'row': 19})]"
      ]
     },
     "execution_count": 39,
     "metadata": {},
     "output_type": "execute_result"
    }
   ],
   "source": [
    "loader = CSVLoader(file_path=\"./prompts.csv\")\n",
    "data = loader.load_and_split()[:20]\n",
    "data"
   ]
  },
  {
   "cell_type": "code",
   "execution_count": 40,
   "metadata": {},
   "outputs": [
    {
     "data": {
      "text/markdown": [
       "act: Linux Terminal\n",
       "prompt: I want you to act as a linux terminal. I will type commands and you will reply with what the terminal should show. I want you to only reply with the terminal output inside one unique code block, and nothing else. do not write explanations. do not type commands unless I instruct you to do so. when i need to tell you something in english, i will do so by putting text inside curly brackets {like this}. my first command is pwd"
      ],
      "text/plain": [
       "<IPython.core.display.Markdown object>"
      ]
     },
     "execution_count": 40,
     "metadata": {},
     "output_type": "execute_result"
    }
   ],
   "source": [
    "from IPython.display import Markdown\n",
    "\n",
    "Markdown(data[0].page_content)"
   ]
  },
  {
   "cell_type": "code",
   "execution_count": null,
   "metadata": {},
   "outputs": [],
   "source": []
  },
  {
   "cell_type": "code",
   "execution_count": 41,
   "metadata": {},
   "outputs": [],
   "source": [
    "from langchain.llms import Ollama\n",
    "from langchain.callbacks.manager import CallbackManager\n",
    "from langchain.callbacks.streaming_stdout import StreamingStdOutCallbackHandler\n",
    "\n",
    "llm = Ollama(\n",
    "    model=\"llama2\",\n",
    "    verbose=True,\n",
    "    callback_manager=CallbackManager([StreamingStdOutCallbackHandler()]),\n",
    ") # allow for streaming the response"
   ]
  },
  {
   "cell_type": "code",
   "execution_count": 42,
   "metadata": {},
   "outputs": [],
   "source": [
    "from langchain.text_splitter import RecursiveCharacterTextSplitter\n",
    "\n",
    "text_splitter = RecursiveCharacterTextSplitter(chunk_size=1500, chunk_overlap=100) # you should experiment with!\n",
    "all_splits = text_splitter.split_documents(data)"
   ]
  },
  {
   "cell_type": "code",
   "execution_count": 43,
   "metadata": {},
   "outputs": [],
   "source": [
    "# Embed and store\n",
    "from langchain.vectorstores import Chroma\n",
    "from langchain.embeddings import OllamaEmbeddings  # We can also try Ollama embeddings\n",
    "\n",
    "vectorstore = Chroma.from_documents(documents=all_splits, embedding=OllamaEmbeddings(model=\"llama2\"),persist_directory=\"lucas-old-test\")"
   ]
  },
  {
   "cell_type": "code",
   "execution_count": 44,
   "metadata": {},
   "outputs": [
    {
     "data": {
      "text/plain": [
       "4"
      ]
     },
     "execution_count": 44,
     "metadata": {},
     "output_type": "execute_result"
    }
   ],
   "source": [
    "question = \"Prompt about writing?\"\n",
    "docs = vectorstore.similarity_search(question)\n",
    "len(docs)"
   ]
  },
  {
   "cell_type": "code",
   "execution_count": 45,
   "metadata": {},
   "outputs": [
    {
     "data": {
      "text/markdown": [
       "act: Novelist\n",
       "prompt: I want you to act as a novelist. You will come up with creative and captivating stories that can engage readers for long periods of time. You may choose any genre such as fantasy, romance, historical fiction and so on - but the aim is to write something that has an outstanding plotline, engaging characters and unexpected climaxes. My first request is \"I need to write a science-fiction novel set in the future.\""
      ],
      "text/plain": [
       "<IPython.core.display.Markdown object>"
      ]
     },
     "execution_count": 45,
     "metadata": {},
     "output_type": "execute_result"
    }
   ],
   "source": [
    "Markdown(docs[0].page_content)"
   ]
  },
  {
   "cell_type": "code",
   "execution_count": null,
   "metadata": {},
   "outputs": [],
   "source": [
    "\"\"\"youtube chapters section\\nprompt: Given this video transcription: {transcription} you will write a Youtube chapter section with timeline stamps for the major parts of the video. The format should be: \\\\n\\\\n <double:digit timestamp>:<brief description of this section>'\"\"\""
   ]
  },
  {
   "cell_type": "code",
   "execution_count": 46,
   "metadata": {},
   "outputs": [],
   "source": [
    "# QA chain\n",
    "from langchain.chains import RetrievalQA\n",
    "\n",
    "# RAG prompt\n",
    "from langchain import hub"
   ]
  },
  {
   "cell_type": "code",
   "execution_count": 47,
   "metadata": {},
   "outputs": [
    {
     "name": "stdout",
     "output_type": "stream",
     "text": [
      "input_variables=['context', 'question'] metadata={'lc_hub_owner': 'rlm', 'lc_hub_repo': 'rag-prompt-llama', 'lc_hub_commit_hash': '693a2db5447e3b58c060a6ac02758dc7f1aaaaa4ee6214d127bf70b443158630'} messages=[HumanMessagePromptTemplate(prompt=PromptTemplate(input_variables=['context', 'question'], template=\"[INST]<<SYS>> You are an assistant for question-answering tasks. Use the following pieces of retrieved context to answer the question. If you don't know the answer, just say that you don't know. Use three sentences maximum and keep the answer concise.<</SYS>> \\nQuestion: {question} \\nContext: {context} \\nAnswer: [/INST]\"))]\n"
     ]
    }
   ],
   "source": [
    "QA_CHAIN_PROMPT = hub.pull(\"rlm/rag-prompt-llama\")\n",
    "\n",
    "print(QA_CHAIN_PROMPT)"
   ]
  },
  {
   "cell_type": "code",
   "execution_count": 49,
   "metadata": {},
   "outputs": [
    {
     "name": "stdout",
     "output_type": "stream",
     "text": [
      "Of course! I'd be happy to help you create an advertising campaign for a new energy drink targeting young adults aged 18-30. Here's a potential campaign strategy based on the context you provided:\n",
      "\n",
      "Target Audience: Young adults aged 18-30 who lead active lifestyles and are looking for a boost of energy to keep them going throughout the day. This group is likely to be busy with work, school, or other activities, and may not have the time or energy to prepare healthy meals or snacks.\n",
      "\n",
      "Key Messages: Our energy drink is specifically formulated to provide a quick and sustained energy boost without the crash that can come from other energy drinks. It's made with all-natural ingredients and contains no artificial flavors or sweeteners, making it a healthier choice for young adults who want to stay energized without sacrificing their well-being.\n",
      "\n",
      "Media Channels: To reach our target audience, we will use a combination of online and offline marketing channels. These may include:\n",
      "\n",
      "* Social media advertising on platforms such as Instagram, Facebook, and TikTok to reach young adults where they spend most of their time online.\n",
      "* Influencer partnerships with popular fitness or lifestyle influencers who can promote our product to their followers.\n",
      "* Sponsorship of local events or activities that cater to young adults, such as music festivals, marathons, or yoga classes.\n",
      "* In-store promotions at health food stores or gyms where our target audience is likely to shop or work out.\n",
      "\n",
      "Additional Activities: To further engage with our target audience and build brand loyalty, we may consider the following activities:\n",
      "\n",
      "* Hosting events or workshops that teach young adults how to prepare healthy meals or snacks that provide sustained energy throughout the day.\n",
      "* Offering exclusive discounts or promotions to our social media followers or email list to encourage repeat purchases and customer loyalty.\n",
      "* Partnering with local universities or gyms to offer samples of our product to students or members, along with educational materials on the benefits of natural energy boosters.\n",
      "\n",
      "By using a combination of online and offline marketing channels, targeted messaging, and engaging activities, we can create a successful advertising campaign for our new energy drink that resonates with young adults aged 18-30 who are looking for a healthier way to stay energized throughout their busy days."
     ]
    }
   ],
   "source": [
    "qa_chain = RetrievalQA.from_chain_type(\n",
    "    llm,\n",
    "    retriever=vectorstore.as_retriever(),\n",
    "    chain_type_kwargs={\"prompt\": QA_CHAIN_PROMPT},\n",
    ")\n",
    "\n",
    "question = \"prompt about writing\"\n",
    "result = qa_chain.invoke({\"query\": question})"
   ]
  },
  {
   "cell_type": "markdown",
   "metadata": {},
   "source": [
    "Cool alternative option using `CTransformers` for setting up the llama2 llm:\n",
    "\n",
    "- https://levelup.gitconnected.com/talk-to-your-csv-llama2-how-to-use-llama2-and-langchain-69012c5ff653"
   ]
  }
 ],
 "metadata": {
  "kernelspec": {
   "display_name": "oreilly-llama2",
   "language": "python",
   "name": "oreilly-llama2"
  },
  "language_info": {
   "codemirror_mode": {
    "name": "ipython",
    "version": 3
   },
   "file_extension": ".py",
   "mimetype": "text/x-python",
   "name": "python",
   "nbconvert_exporter": "python",
   "pygments_lexer": "ipython3",
   "version": "3.10.14"
  }
 },
 "nbformat": 4,
 "nbformat_minor": 2
}
