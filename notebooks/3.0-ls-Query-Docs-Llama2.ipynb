{
 "cells": [
  {
   "cell_type": "markdown",
   "metadata": {},
   "source": [
    "# Why Locally?\n",
    "\n",
    "## The Importance of Private LLMs\n",
    "\n",
    "we don't just want a chatbot with which we can talk to about the things in which it was trained and fine tuned on, but we want a live and dynamic model that learns about our data, needs, ionformatiob and so on. Now, the answer to that isto leverage something called RAG or retrieval augmented generation, which is a technique introduced in [Piktus et al. 2021](https://arxiv.org/pdf/2005.11401.pdf), and its about augmenting LLMs with knowledge from documents such as pdfs, csvs, .txt files etc...\n",
    "\n",
    "However, when we talk about RAG, the immmediate question that comes to mind is where would I be sending my data to?\n",
    "\n",
    "Now, privacy has been a concern since the birth of LLMs, and that is because,the public as a whole wants to know where its data is going to.\n",
    "\n",
    "With the integration of LLMs to our personal data, be it for research or work, or personal productivity, what have you, the problem becomes, ok, how can I get aorund the necessity of sending my data to some external private cloud provider? \n",
    "\n",
    "The answer to that is to leverage oen source llms like llama2 connected to RAG systems that allows them to query and chat with your documents without your data leaving your computer."
   ]
  },
  {
   "cell_type": "markdown",
   "metadata": {},
   "source": [
    "# What is RAG?\n",
    "\n",
    "## From Ctrl-F to Semantic Search\n",
    "\n",
    "- Rag or retrieval augmented generation is a procedure for augmenting large language model's capabilities by giving them programatic access to documents like pdfs, csvs and text files.\n",
    "\n",
    "- To understand it we need to understand what embeddings are\n",
    "\n",
    "- Embeddings are nothing more than a vecgorized representation of data (like text) in a space where the distances in that space have some meaningful connectio with the semantic value in the data itself.\n",
    "\n",
    "- What do I mean? (dog cat examples...)\n",
    "\n",
    "- Rag systems leverage embeddings to build what are called vector stores, which are literally stores of vectors that allow us to index many embeddings in one queryable representation.\n",
    "\n",
    "- Now, why not have just one big embedding? Becuase of the known context limitations of transformer based models like ChatGPT.\n",
    "\n",
    "- Now, more specifically this is how a RAG system would usually work:  (explain rag slides)\n"
   ]
  },
  {
   "cell_type": "markdown",
   "metadata": {},
   "source": [
    "# Frameworks to Query Docs Locally with Llama2\n",
    "\n",
    "- Many frameworks stemming from ready to use products like chatpdf.com, or ChatGPT Plus plugins like AskYourPDF or AI Pdf, to less ready, yet more open solutions like, privateGPT, h2oGPT, localGPT, and many others.\n",
    "\n",
    "- The way I like thinking about these, is on a spectrum of complexity/friction to access\n",
    "\n",
    "- On the one hand you have something as simple as upload your doc, and use! On the other, you have frameworks that facilitate the process of setting up these query your docs systems for yourself locally on your machine. We'll be focusing on the later\n",
    "\n",
    "\n",
    "- We'll learn now the concepts and standard pipeline to query your docs with RAG systems, focusing on langchain and llama-index as our main frameworks of use.\n",
    "\n",
    "- Current champs are: langchain, llama-index. But before we go into discussing frameworks specifically let's look at a basic RAG pipeline\n",
    "\n",
    "- Doc loaders, chunk, split, embed, index vectorize in vector store, query doc (find common framework)\n",
    "\n",
    "- Ok, let's look at what that looks like in practice\n",
    "\n",
    "- Practical example langchain\n",
    "\n",
    "- Demo\n",
    "\n",
    "- Practical example llama-index\n",
    "\n",
    "- Demo\n",
    "\n",
    "- Points to consider and how to go deeper into this (tips on concepts like chunk size, overlaping stuff, chunking methods like rerank etc....)"
   ]
  },
  {
   "cell_type": "markdown",
   "metadata": {},
   "source": [
    "# Concept Demo for Embeddings"
   ]
  },
  {
   "cell_type": "code",
   "execution_count": null,
   "metadata": {},
   "outputs": [],
   "source": [
    "# !pip install scikit-learn\n",
    "# !pip install matplotlib\n",
    "# !pip install openai"
   ]
  },
  {
   "cell_type": "code",
   "execution_count": null,
   "metadata": {},
   "outputs": [],
   "source": [
    "import openai"
   ]
  },
  {
   "cell_type": "code",
   "execution_count": null,
   "metadata": {},
   "outputs": [],
   "source": [
    "embedding = openai.Embedding(\"babbage\")"
   ]
  },
  {
   "cell_type": "code",
   "execution_count": null,
   "metadata": {},
   "outputs": [],
   "source": [
    "embedding.engine = \"davinci\""
   ]
  },
  {
   "cell_type": "code",
   "execution_count": null,
   "metadata": {},
   "outputs": [],
   "source": [
    "output = embedding.create(input=[\"Playing the piano\"], model='text-embedding-ada-002')['data'][0]['embedding']\n",
    "output"
   ]
  },
  {
   "cell_type": "markdown",
   "metadata": {},
   "source": [
    "Ok cool! Now let's test this idea that the distance in the embedding is similar based on the semantics of a sentence!\n",
    "\n",
    "Let's look at 3 sentences:\n",
    "\n",
    "- My dog likes food\n",
    "\n",
    "- My cat hates walking\n",
    "\n",
    "- I love programming\n",
    "\n",
    "Ok, so the expectation is that the first 2 phrases will be closer in the 'embedding space' whatever that means."
   ]
  },
  {
   "cell_type": "code",
   "execution_count": 28,
   "metadata": {},
   "outputs": [],
   "source": [
    "def embed_sentence(sentence):\n",
    "    \"\"\"Embed a sentence using the OpenAI API.\"\"\"\n",
    "    embedding_output = embedding.create(input=[sentence], model='text-embedding-ada-002')['data'][0]['embedding']\n",
    "    return embedding_output\n",
    "\n",
    "\n",
    "phrase_dog = \"My dog likes food\"\n",
    "embedding_dog = embed_sentence(phrase_dog)\n",
    "phrase_cat = \"My cat hates walking\"\n",
    "embedding_cat  = embed_sentence(phrase_cat)\n",
    "phrase_I = \"I will learn about llama2\"\n",
    "embedding_I = embed_sentence(phrase_I)"
   ]
  },
  {
   "cell_type": "code",
   "execution_count": 29,
   "metadata": {},
   "outputs": [
    {
     "name": "stdout",
     "output_type": "stream",
     "text": [
      "The distance between My dog likes food and My cat hates walking is 0.61\n",
      "The distance between My dog likes food and I will learn about llama2 is 0.74\n",
      "The distance between My cat hates walking and 'II will learn about llama2 is 0.75\n",
      "The distance between My dog likes food and My cat hates walking is 0.18\n",
      "The distance between My dog likes food and I will learn about llama2 is 0.27\n",
      "The distance between My cat hates walking and 'II will learn about llama2 is 0.28\n"
     ]
    },
    {
     "data": {
      "image/png": "[encoded data removed]",
      "text/plain": [
       "<Figure size 640x480 with 1 Axes>"
      ]
     },
     "metadata": {},
     "output_type": "display_data"
    }
   ],
   "source": [
    "from scipy.spatial.distance import euclidean\n",
    "\n",
    "distance_dog_cat = euclidean(embedding_dog, embedding_cat)\n",
    "distance_dog_I = euclidean(embedding_dog, embedding_I)\n",
    "distance_cat_I = euclidean(embedding_cat, embedding_I)\n",
    "\n",
    "print(f\"The distance between {phrase_dog} and {phrase_cat} is {distance_dog_cat:.2f}\")\n",
    "print(f\"The distance between {phrase_dog} and {phrase_I} is {distance_dog_I:.2f}\")\n",
    "print(f\"The distance between {phrase_cat} and 'I{phrase_I} is {distance_cat_I:.2f}\")\n",
    "\n",
    "\n",
    "from sklearn.metrics.pairwise import cosine_distances\n",
    "\n",
    "# calculate cosine distance between embedding_dog and embedding_cat\n",
    "cosine_distance_dog_cat = cosine_distances([embedding_dog], [embedding_cat])[0][0]\n",
    "\n",
    "# calculate cosine distance between embedding_dog and embedding_I\n",
    "cosine_distance_dog_I = cosine_distances([embedding_dog], [embedding_I])[0][0]\n",
    "\n",
    "# calculate cosine distance between embedding_cat and embedding_I\n",
    "cosine_distance_cat_I = cosine_distances([embedding_cat], [embedding_I])[0][0]\n",
    "\n",
    "print(f\"The distance between {phrase_dog} and {phrase_cat} is {cosine_distance_dog_cat:.2f}\")\n",
    "print(f\"The distance between {phrase_dog} and {phrase_I} is {cosine_distance_dog_I:.2f}\")\n",
    "print(f\"The distance between {phrase_cat} and 'I{phrase_I} is {cosine_distance_cat_I:.2f}\")\n",
    "\n",
    "\n",
    "import matplotlib.pyplot as plt\n",
    "\n",
    "# create a list of labels for each embedding\n",
    "labels = ['embedding_dog', 'embedding_cat', 'embedding_I']\n",
    "\n",
    "# create a list of colors for each embedding\n",
    "colors = ['red', 'green', 'blue']\n",
    "\n",
    "# create a scatter plot of the embeddings\n",
    "plt.scatter([embedding_dog[0]], [embedding_dog[1]], color=colors[0], label=labels[0])\n",
    "plt.scatter([embedding_cat[0]], [embedding_cat[1]], color=colors[1], label=labels[1])\n",
    "plt.scatter([embedding_I[0]], [embedding_I[1]], color=colors[2], label=labels[2])\n",
    "\n",
    "# add a legend to the plot\n",
    "plt.legend()\n",
    "\n",
    "# show the plot\n",
    "plt.show()"
   ]
  },
  {
   "cell_type": "markdown",
   "metadata": {},
   "source": [
    "Why cosine distance??\n",
    "![](2023-11-07-16-32-24.png)\n",
    "[source](https://platform.openai.com/docs/guides/embeddings/limitations-risks#:~:text=which%20distance%20function%20should%20i%20use%3F)"
   ]
  },
  {
   "cell_type": "markdown",
   "metadata": {},
   "source": [
    "Yay! As we can see with both the distance equations we used (euclidean and cosine distance) we obtain outputs that align with our initial expectations!"
   ]
  },
  {
   "cell_type": "code",
   "execution_count": null,
   "metadata": {},
   "outputs": [],
   "source": []
  },
  {
   "cell_type": "code",
   "execution_count": null,
   "metadata": {},
   "outputs": [],
   "source": []
  },
  {
   "cell_type": "code",
   "execution_count": null,
   "metadata": {},
   "outputs": [],
   "source": []
  }
 ],
 "metadata": {
  "kernelspec": {
   "display_name": "oreilly_llama2",
   "language": "python",
   "name": "oreilly_llama2"
  },
  "language_info": {
   "codemirror_mode": {
    "name": "ipython",
    "version": 3
   },
   "file_extension": ".py",
   "mimetype": "text/x-python",
   "name": "python",
   "nbconvert_exporter": "python",
   "pygments_lexer": "ipython3",
   "version": "3.11.5"
  }
 },
 "nbformat": 4,
 "nbformat_minor": 2
}
