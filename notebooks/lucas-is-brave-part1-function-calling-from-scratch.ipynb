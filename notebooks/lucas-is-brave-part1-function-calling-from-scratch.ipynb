{
 "cells": [
  {
   "cell_type": "code",
   "execution_count": 1,
   "metadata": {},
   "outputs": [],
   "source": [
    "import ollama"
   ]
  },
  {
   "cell_type": "code",
   "execution_count": 2,
   "metadata": {},
   "outputs": [
    {
     "data": {
      "text/plain": [
       "\"I'm just an AI, I don't have feelings like humans do, but I'm functioning properly and ready to assist you with any questions or tasks you may have! How can I help you today?\""
      ]
     },
     "execution_count": 2,
     "metadata": {},
     "output_type": "execute_result"
    }
   ],
   "source": [
    "def get_response(prompt):\n",
    "    response = ollama.chat(model=\"llama3\",messages=[\n",
    "        {\"role\": \"system\", \"content\": \"You are helpful assistant.\"},\n",
    "        {\"role\": \"user\", \"content\": prompt}\n",
    "    ])\n",
    "    \n",
    "    return response['message']['content']\n",
    "\n",
    "get_response(\"Hello, how are you?\")"
   ]
  },
  {
   "cell_type": "code",
   "execution_count": 13,
   "metadata": {},
   "outputs": [
    {
     "name": "stdout",
     "output_type": "stream",
     "text": [
      "['lucas-old-test', '4.1-llama3-groq-function-calling.ipynb', '.DS_Store', '33af0375-7e40-4dd8-a4a7-c9db10910c43', '3.2-privateGPT-with-llama3-quick-setup.ipynb', '1.1-llama3-prompt-format.ipynb', 'c4c3b3c6-037f-4b1a-ac92-d3ead28f487c', '3.1-llama3-Q&A-with-langchain.ipynb', '6.2-quantization-precision-format-code-explanation.ipynb', 'lora-paper.pdf', '__pycache__', '6.0-fine-tuning-llama3-what-you-need-to-know.ipynb', '5.0-llama3-agentic-rag.ipynb', 'sparks-agi-paper.pdf', 'lucas-is-brave-doing-live-demos.ipynb', 'new-dir', 'chroma.sqlite3', '4.0-llama3-structured-outputs.ipynb', '2024-06-11-14-56-18.png', 'prompts.csv', '3.0-llama3-chat-pdf-intro.ipynb', 'pdfs', '1.0-Llama3-Quick-Start.ipynb', 'assets-resources', '2.0-llama3-vector-similarity-search.ipynb', '7.0-gui-for-llama3-options.ipynb', 'lucas-is-brave-part1-function-calling-from-scratch.ipynb', 'lucas', '6.1-fine-tuning-walkthrough-hugging-face.ipynb']\n"
     ]
    },
    {
     "data": {
      "text/plain": [
       "['lucas-old-test',\n",
       " '4.1-llama3-groq-function-calling.ipynb',\n",
       " '.DS_Store',\n",
       " '33af0375-7e40-4dd8-a4a7-c9db10910c43',\n",
       " '3.2-privateGPT-with-llama3-quick-setup.ipynb',\n",
       " '1.1-llama3-prompt-format.ipynb',\n",
       " 'c4c3b3c6-037f-4b1a-ac92-d3ead28f487c',\n",
       " '3.1-llama3-Q&A-with-langchain.ipynb',\n",
       " '6.2-quantization-precision-format-code-explanation.ipynb',\n",
       " 'lora-paper.pdf',\n",
       " '__pycache__',\n",
       " '6.0-fine-tuning-llama3-what-you-need-to-know.ipynb',\n",
       " '5.0-llama3-agentic-rag.ipynb',\n",
       " 'sparks-agi-paper.pdf',\n",
       " 'lucas-is-brave-doing-live-demos.ipynb',\n",
       " 'new-dir',\n",
       " 'chroma.sqlite3',\n",
       " '4.0-llama3-structured-outputs.ipynb',\n",
       " '2024-06-11-14-56-18.png',\n",
       " 'prompts.csv',\n",
       " '3.0-llama3-chat-pdf-intro.ipynb',\n",
       " 'pdfs',\n",
       " '1.0-Llama3-Quick-Start.ipynb',\n",
       " 'assets-resources',\n",
       " '2.0-llama3-vector-similarity-search.ipynb',\n",
       " '7.0-gui-for-llama3-options.ipynb',\n",
       " 'lucas-is-brave-part1-function-calling-from-scratch.ipynb',\n",
       " 'lucas',\n",
       " '6.1-fine-tuning-walkthrough-hugging-face.ipynb']"
      ]
     },
     "execution_count": 13,
     "metadata": {},
     "output_type": "execute_result"
    }
   ],
   "source": [
    "import os\n",
    "\n",
    "def list_all_files_in_current_directory():\n",
    "    \"\"\"Function that lists all files in the current directory.\"\"\"\n",
    "    files = os.listdir()\n",
    "    print(files)\n",
    "    return files\n",
    "\n",
    "list_all_files_in_current_directory()"
   ]
  },
  {
   "cell_type": "code",
   "execution_count": 6,
   "metadata": {},
   "outputs": [
    {
     "data": {
      "text/plain": [
       "'list_all_files_in_current_directory()'"
      ]
     },
     "execution_count": 6,
     "metadata": {},
     "output_type": "execute_result"
    }
   ],
   "source": [
    "def get_response(prompt):\n",
    "    response = ollama.chat(model=\"llama3\",messages=[\n",
    "        {\"role\": \"system\", \"content\": \"You are a helfpful assistant. You can do one of 2 things, you can give the user an answer to a query or you can call the following function:\\\n",
    "         list_all_files_in_current_directory() which lists all the files in the current directory. If you call the function,\\\n",
    "             make sure your output is only the call to the function and nothing else.\"},\n",
    "        {\"role\": \"user\", \"content\": prompt}\n",
    "    ])\n",
    "    \n",
    "    return response['message']['content']\n",
    "\n",
    "prompt = \"How many files are in the current directory?\"\n",
    "output = get_response(prompt)\n",
    "output"
   ]
  },
  {
   "cell_type": "code",
   "execution_count": 11,
   "metadata": {},
   "outputs": [
    {
     "data": {
      "text/plain": [
       "'list_all_files_in_current_directory()'"
      ]
     },
     "execution_count": 11,
     "metadata": {},
     "output_type": "execute_result"
    }
   ],
   "source": [
    "output"
   ]
  },
  {
   "cell_type": "code",
   "execution_count": 14,
   "metadata": {},
   "outputs": [
    {
     "name": "stdout",
     "output_type": "stream",
     "text": [
      "['lucas-old-test', '4.1-llama3-groq-function-calling.ipynb', '.DS_Store', '33af0375-7e40-4dd8-a4a7-c9db10910c43', '3.2-privateGPT-with-llama3-quick-setup.ipynb', '1.1-llama3-prompt-format.ipynb', 'c4c3b3c6-037f-4b1a-ac92-d3ead28f487c', '3.1-llama3-Q&A-with-langchain.ipynb', '6.2-quantization-precision-format-code-explanation.ipynb', 'lora-paper.pdf', '__pycache__', '6.0-fine-tuning-llama3-what-you-need-to-know.ipynb', '5.0-llama3-agentic-rag.ipynb', 'sparks-agi-paper.pdf', 'lucas-is-brave-doing-live-demos.ipynb', 'new-dir', 'chroma.sqlite3', '4.0-llama3-structured-outputs.ipynb', '2024-06-11-14-56-18.png', 'prompts.csv', '3.0-llama3-chat-pdf-intro.ipynb', 'pdfs', '1.0-Llama3-Quick-Start.ipynb', 'assets-resources', '2.0-llama3-vector-similarity-search.ipynb', '7.0-gui-for-llama3-options.ipynb', 'lucas-is-brave-part1-function-calling-from-scratch.ipynb', 'lucas', '6.1-fine-tuning-walkthrough-hugging-face.ipynb']\n"
     ]
    }
   ],
   "source": [
    "exec(output)"
   ]
  }
 ],
 "metadata": {
  "kernelspec": {
   "display_name": "oreilly-llama3",
   "language": "python",
   "name": "oreilly-llama3"
  },
  "language_info": {
   "codemirror_mode": {
    "name": "ipython",
    "version": 3
   },
   "file_extension": ".py",
   "mimetype": "text/x-python",
   "name": "python",
   "nbconvert_exporter": "python",
   "pygments_lexer": "ipython3",
   "version": "3.10.14"
  }
 },
 "nbformat": 4,
 "nbformat_minor": 2
}
