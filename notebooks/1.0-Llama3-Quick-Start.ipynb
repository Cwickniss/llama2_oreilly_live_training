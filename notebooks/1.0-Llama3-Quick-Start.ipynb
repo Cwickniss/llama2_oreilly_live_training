{
 "cells": [
  {
   "cell_type": "markdown",
   "metadata": {},
   "source": [
    "# Accessing Llama 3\n",
    "\n",
    "1. Download + Self Host (i.e. download Llama weights directly, or use a tool like [Ollama](https://ollama.ai/)).\n",
    "2. Hosted API Platform (e.g. Groq, Replicate, Together, Anyscale)\n",
    "3.  Hosted Container Platform (e.g. Azure, AWS, GCP)"
   ]
  },
  {
   "cell_type": "markdown",
   "metadata": {},
   "source": [
    "For this course we will mainly work with ollama which is the easiest way to get started with Llama3 locally."
   ]
  },
  {
   "cell_type": "markdown",
   "metadata": {},
   "source": [
    "1. Go [here](https://ollama.ai/) and download the ollama executable for your OS.\n",
    "2. Then you can use it within the terminal\n",
    "\n",
    "    ```ollama run llama3```\n",
    "\n",
    "\n",
    "3. If the llama3 model is not yet downloaded Ollama will downloaded for you and start a chat conversation with Llama3 8B instruct.\n"
   ]
  },
  {
   "cell_type": "markdown",
   "metadata": {},
   "source": [
    "To run it as a a REST API call"
   ]
  },
  {
   "cell_type": "markdown",
   "metadata": {},
   "source": [
    "```\n",
    "curl -X POST http://localhost:11434/api/generate -d '{\n",
    "  \"model\": \"llama3\",\n",
    "  \"prompt\":\"Why is the sky blue?\"\n",
    " }'\n",
    " ```"
   ]
  },
  {
   "cell_type": "markdown",
   "metadata": {},
   "source": [
    "What you get in return is a stream with the API response:\n",
    "\n",
    "![](2023-11-01-17-23-51.png)"
   ]
  },
  {
   "cell_type": "markdown",
   "metadata": {},
   "source": [
    "Memory requirements:\n",
    "\n",
    "![](2023-11-01-17-22-32.png)"
   ]
  },
  {
   "cell_type": "markdown",
   "metadata": {},
   "source": [
    "Running Ollama models with Ollama Python API."
   ]
  },
  {
   "cell_type": "code",
   "execution_count": 1,
   "metadata": {},
   "outputs": [],
   "source": [
    "# !pip install ollama"
   ]
  },
  {
   "cell_type": "code",
   "execution_count": 2,
   "metadata": {},
   "outputs": [
    {
     "name": "stdout",
     "output_type": "stream",
     "text": [
      "The sky appears blue because of a phenomenon called Rayleigh scattering, named after the British physicist Lord Rayleigh. Here's what happens:\n",
      "\n",
      "1. **Sunlight**: When sunlight enters Earth's atmosphere, it contains all the colors of the visible spectrum (red, orange, yellow, green, blue, indigo, and violet).\n",
      "2. **Gas molecules**: The atmosphere is made up of various gases, such as nitrogen (N2) and oxygen (O2). These gas molecules are much smaller than the wavelength of light.\n",
      "3. **Scattering**: When sunlight encounters these tiny gas molecules, it scatters in all directions. This scattering effect is more pronounced for shorter wavelengths of light, like blue and violet.\n",
      "\n",
      "Think of it like a game of pool: when you hit the cue ball (sunlight), it breaks into smaller balls (scattered light) that bounce off the table (atmosphere). The smaller balls (blue and violet light) scatter more than the larger ones (red and orange light).\n",
      "\n",
      "4. **Our eyes**: When we look at the sky, our eyes perceive the scattered blue light as the dominant color, making it appear blue to us.\n",
      "\n",
      "Additionally, there are other factors that contribute to the blue color of the sky:\n",
      "\n",
      "* **Dust particles**: Tiny dust particles in the atmosphere can also scatter shorter wavelengths of light, like blue and violet.\n",
      "* **Clouds**: Clouds can reflect sunlight, adding to the overall brightness and blueness of the sky.\n",
      "* **Atmospheric conditions**: The color of the sky can change depending on atmospheric conditions, such as pollution, humidity, and temperature.\n",
      "\n",
      "So, to summarize: the sky appears blue because of the scattering of sunlight by tiny gas molecules in our atmosphere, combined with other factors like dust particles, clouds, and atmospheric conditions.\n"
     ]
    }
   ],
   "source": [
    "import ollama\n",
    "\n",
    "response = ollama.chat(model='llama3', messages=[\n",
    "  {\n",
    "    'role': 'user',\n",
    "    'content': 'Why is the sky blue?',\n",
    "  },\n",
    "])\n",
    "print(response['message']['content'])"
   ]
  },
  {
   "cell_type": "markdown",
   "metadata": {},
   "source": [
    "__You can use it with other python frameworks like LangChain:__"
   ]
  },
  {
   "cell_type": "code",
   "execution_count": 3,
   "metadata": {},
   "outputs": [],
   "source": [
    "# !pip install langchain"
   ]
  },
  {
   "cell_type": "code",
   "execution_count": 4,
   "metadata": {},
   "outputs": [],
   "source": [
    "from langchain.llms import Ollama\n",
    "from langchain.callbacks.manager import CallbackManager\n",
    "from langchain.callbacks.streaming_stdout import StreamingStdOutCallbackHandler\n",
    "\n",
    "llm = Ollama(\n",
    "    model=\"llama3\", callback_manager=CallbackManager([StreamingStdOutCallbackHandler()])\n",
    ")"
   ]
  },
  {
   "cell_type": "code",
   "execution_count": 5,
   "metadata": {},
   "outputs": [
    {
     "name": "stdout",
     "output_type": "stream",
     "text": [
      "The question that has puzzled philosophers, theologians, and everyday people for centuries!\n",
      "\n",
      "The meaning of life is a complex and multifaceted concept that has been debated and explored by many cultures, traditions, and individuals. There is no one definitive answer, as it's a deeply personal and subjective question.\n",
      "\n",
      "Here are some possible perspectives on the meaning of life:\n",
      "\n",
      "1. **Pursuing happiness**: One approach is to seek happiness, fulfillment, and joy in life. This can be achieved through meaningful relationships, personal growth, creative expression, or pursuing passions.\n",
      "2. **Finding purpose**: Another perspective is to discover one's purpose or calling in life. This could involve contributing to society, making a positive impact, or leaving a lasting legacy.\n",
      "3. **Exploring the human condition**: The meaning of life can also be seen as an inquiry into the nature of human existence: our strengths and weaknesses, our place in the world, and our connection to each other and the universe.\n",
      "4. **Spiritual or religious beliefs**: For many people, the meaning of life is deeply rooted in their spiritual or religious beliefs. This could involve following a higher power's guidance, fulfilling divine purposes, or seeking enlightenment.\n",
      "5. **Existentialism**: Another perspective is that there may be no inherent meaning to life; instead, we create our own meaning through experiences, choices, and actions.\n",
      "6. **Socrates' question**: Philosopher Socrates asked, \"How should one live?\" rather than \"What is the meaning of life?\" This approach emphasizes the importance of living a virtuous, just, and compassionate life.\n",
      "7. **The human quest for transcendence**: Some people seek to transcend the mundane, the physical world, or even mortality itself through art, science, philosophy, or spiritual pursuits.\n",
      "8. **Embracing uncertainty**: Finally, some individuals accept that the meaning of life is inherently uncertain and subjective, choosing instead to focus on living in the present moment, appreciating what they have, and finding contentment.\n",
      "\n",
      "Ultimately, the meaning of life is a personal and evolving question that can be explored through self-reflection, experiences, relationships, and the pursuit of knowledge. It's a journey that may not have a definitive answer but can lead to a deeper understanding of ourselves and our place in the world.\n",
      "\n",
      "What do you think? How do you approach the meaning of life?"
     ]
    },
    {
     "data": {
      "text/plain": [
       "'The question that has puzzled philosophers, theologians, and everyday people for centuries!\\n\\nThe meaning of life is a complex and multifaceted concept that has been debated and explored by many cultures, traditions, and individuals. There is no one definitive answer, as it\\'s a deeply personal and subjective question.\\n\\nHere are some possible perspectives on the meaning of life:\\n\\n1. **Pursuing happiness**: One approach is to seek happiness, fulfillment, and joy in life. This can be achieved through meaningful relationships, personal growth, creative expression, or pursuing passions.\\n2. **Finding purpose**: Another perspective is to discover one\\'s purpose or calling in life. This could involve contributing to society, making a positive impact, or leaving a lasting legacy.\\n3. **Exploring the human condition**: The meaning of life can also be seen as an inquiry into the nature of human existence: our strengths and weaknesses, our place in the world, and our connection to each other and the universe.\\n4. **Spiritual or religious beliefs**: For many people, the meaning of life is deeply rooted in their spiritual or religious beliefs. This could involve following a higher power\\'s guidance, fulfilling divine purposes, or seeking enlightenment.\\n5. **Existentialism**: Another perspective is that there may be no inherent meaning to life; instead, we create our own meaning through experiences, choices, and actions.\\n6. **Socrates\\' question**: Philosopher Socrates asked, \"How should one live?\" rather than \"What is the meaning of life?\" This approach emphasizes the importance of living a virtuous, just, and compassionate life.\\n7. **The human quest for transcendence**: Some people seek to transcend the mundane, the physical world, or even mortality itself through art, science, philosophy, or spiritual pursuits.\\n8. **Embracing uncertainty**: Finally, some individuals accept that the meaning of life is inherently uncertain and subjective, choosing instead to focus on living in the present moment, appreciating what they have, and finding contentment.\\n\\nUltimately, the meaning of life is a personal and evolving question that can be explored through self-reflection, experiences, relationships, and the pursuit of knowledge. It\\'s a journey that may not have a definitive answer but can lead to a deeper understanding of ourselves and our place in the world.\\n\\nWhat do you think? How do you approach the meaning of life?'"
      ]
     },
     "execution_count": 5,
     "metadata": {},
     "output_type": "execute_result"
    }
   ],
   "source": [
    "llm.invoke(\"What is the meaning of life?\")"
   ]
  },
  {
   "cell_type": "markdown",
   "metadata": {},
   "source": [
    "[Ollama github](https://github.com/jmorganca/ollama)"
   ]
  }
 ],
 "metadata": {
  "kernelspec": {
   "display_name": "oreilly-llama3",
   "language": "python",
   "name": "oreilly-llama3"
  },
  "language_info": {
   "codemirror_mode": {
    "name": "ipython",
    "version": 3
   },
   "file_extension": ".py",
   "mimetype": "text/x-python",
   "name": "python",
   "nbconvert_exporter": "python",
   "pygments_lexer": "ipython3",
   "version": "3.10.14"
  }
 },
 "nbformat": 4,
 "nbformat_minor": 2
}
