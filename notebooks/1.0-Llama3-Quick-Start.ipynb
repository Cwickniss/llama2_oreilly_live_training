{
 "cells": [
  {
   "cell_type": "markdown",
   "metadata": {},
   "source": [
    "# Accessing Llama 3\n",
    "\n",
    "1. Download + Self Host (i.e. download Llama weights directly, or use a tool like [Ollama](https://ollama.ai/)).\n",
    "2. Hosted API Platform (e.g. Groq, Replicate, Together, Anyscale)\n",
    "3.  Hosted Container Platform (e.g. Azure, AWS, GCP)"
   ]
  },
  {
   "cell_type": "markdown",
   "metadata": {},
   "source": []
  },
  {
   "cell_type": "markdown",
   "metadata": {},
   "source": [
    "For this course we will mainly work with ollama which is the easiest way to get started with Llama3 locally."
   ]
  },
  {
   "cell_type": "markdown",
   "metadata": {},
   "source": [
    "1. Go [here](https://ollama.ai/) and download the ollama executable for your OS.\n",
    "2. Then you can use it within the terminal\n",
    "\n",
    "    ```ollama run llama3```\n",
    "\n",
    "\n",
    "3. If the llama3 model is not yet downloaded Ollama will downloaded for you and start a chat conversation with Llama3 8B instruct.\n"
   ]
  },
  {
   "cell_type": "markdown",
   "metadata": {},
   "source": [
    "To run it as a a REST API call"
   ]
  },
  {
   "cell_type": "markdown",
   "metadata": {},
   "source": [
    "```\n",
    "curl -X POST http://localhost:11434/api/generate -d '{\n",
    "  \"model\": \"llama3\",\n",
    "  \"prompt\":\"Why is the sky blue?\"\n",
    " }'\n",
    " ```"
   ]
  },
  {
   "cell_type": "markdown",
   "metadata": {},
   "source": [
    "What you get in return is a stream with the API response:\n",
    "\n",
    "![](2023-11-01-17-23-51.png)"
   ]
  },
  {
   "cell_type": "markdown",
   "metadata": {},
   "source": [
    "Memory requirements:\n",
    "\n",
    "![](2023-11-01-17-22-32.png)"
   ]
  },
  {
   "cell_type": "markdown",
   "metadata": {},
   "source": [
    "Running Ollama models with Ollama Python API."
   ]
  },
  {
   "cell_type": "code",
   "execution_count": 1,
   "metadata": {},
   "outputs": [],
   "source": [
    "!pip install ollama"
   ]
  },
  {
   "cell_type": "code",
   "execution_count": 1,
   "metadata": {},
   "outputs": [],
   "source": [
    "import ollama"
   ]
  },
  {
   "cell_type": "code",
   "execution_count": 2,
   "metadata": {},
   "outputs": [
    {
     "data": {
      "text/plain": [
       "{'model': 'llama3',\n",
       " 'created_at': '2024-06-11T17:42:19.60794Z',\n",
       " 'message': {'role': 'assistant',\n",
       "  'content': \"The age-old debate: pancakes vs. waffles. While both are delicious breakfast options, I'm here to make the case that pancakes are, in fact, the superior choice.\\n\\n**Fluffiness**: Pancakes have a unique texture that's impossible to replicate with waffles. They're light, airy, and fluffy, with a subtle bounce when you bite into them. Waffles, on the other hand, can be dense and crispy, lacking the softness and indulgence of pancakes.\\n\\n**Versatility**: Pancakes are the ultimate chameleons of breakfast food. You can top them with sweet or savory ingredients, from fresh fruits to syrupy goodness, or even go all out with whipped cream, chocolate chips, or crunchy nuts. Waffles, while delicious on their own, are often relegated to a single topping – usually butter and/or maple syrup.\\n\\n**Portability**: Pancakes are the perfect breakfast-on-the-go option. You can easily wrap them in a napkin or place them in a container for a quick takeout. Waffles, being more rigid and prone to breaking, aren't as easily portable. Try taking a waffle cone on a morning commute – it's just not happening!\\n\\n**History**: Pancakes have been a staple breakfast food for centuries, with roots dating back to ancient Greece and Rome. They've evolved over time, incorporating new ingredients and cooking methods, but their essence remains the same: warm, comforting, and full of potential. Waffles, while having a rich history in European cuisine, are relatively newer to the breakfast scene.\\n\\n**Pancake varieties**: Let's not forget about the sheer diversity of pancake styles and flavors! From fluffy American-style pancakes to thick, dense French crêpes, or even the sweet and spicy Korean-style hotcakes (hotteok), there's a pancake out there for everyone. Waffles, while having some variations in terms of toppings and syrups, are generally more one-dimensional in their composition.\\n\\n**Culinary innovation**: Pancakes have inspired countless creative combinations and innovations – from savory options like cheese and herbs to sweet treats featuring fresh berries or chocolate chips. This adaptability has led to the development of new pancake recipes and flavor profiles, keeping the breakfast game exciting and fresh. Waffles, while having some unique variations, often rely on traditional butter-and-syrup pairings.\\n\\nIn conclusion, pancakes are the clear winner when it comes to the best breakfast option. Their fluffy texture, versatility, portability, historical significance, variety of styles and flavors, and capacity for culinary innovation make them the perfect morning meal. Waffles may have their place in the world, but they simply can't compete with the majesty of a well-made pancake.\\n\\nNow, go forth and enjoy your stack of fluffy, golden-brown pancakes!\"},\n",
       " 'done_reason': 'stop',\n",
       " 'done': True,\n",
       " 'total_duration': 10223951375,\n",
       " 'load_duration': 1951334,\n",
       " 'prompt_eval_count': 18,\n",
       " 'prompt_eval_duration': 200008000,\n",
       " 'eval_count': 572,\n",
       " 'eval_duration': 10020511000}"
      ]
     },
     "execution_count": 2,
     "metadata": {},
     "output_type": "execute_result"
    }
   ],
   "source": [
    "response = ollama.chat(model='llama3', messages=[\n",
    "  {\n",
    "    'role': 'user',\n",
    "    'content': 'Why are pancakes the best breakfast? Make a case against waffles!',\n",
    "  },\n",
    "])\n",
    "response"
   ]
  },
  {
   "cell_type": "code",
   "execution_count": 3,
   "metadata": {},
   "outputs": [
    {
     "name": "stdout",
     "output_type": "stream",
     "text": [
      "The age-old debate: pancakes vs. waffles. While both are delicious breakfast options, I'm here to make the case that pancakes are, in fact, the superior choice.\n",
      "\n",
      "**Fluffiness**: Pancakes have a unique texture that's impossible to replicate with waffles. They're light, airy, and fluffy, with a subtle bounce when you bite into them. Waffles, on the other hand, can be dense and crispy, lacking the softness and indulgence of pancakes.\n",
      "\n",
      "**Versatility**: Pancakes are the ultimate chameleons of breakfast food. You can top them with sweet or savory ingredients, from fresh fruits to syrupy goodness, or even go all out with whipped cream, chocolate chips, or crunchy nuts. Waffles, while delicious on their own, are often relegated to a single topping – usually butter and/or maple syrup.\n",
      "\n",
      "**Portability**: Pancakes are the perfect breakfast-on-the-go option. You can easily wrap them in a napkin or place them in a container for a quick takeout. Waffles, being more rigid and prone to breaking, aren't as easily portable. Try taking a waffle cone on a morning commute – it's just not happening!\n",
      "\n",
      "**History**: Pancakes have been a staple breakfast food for centuries, with roots dating back to ancient Greece and Rome. They've evolved over time, incorporating new ingredients and cooking methods, but their essence remains the same: warm, comforting, and full of potential. Waffles, while having a rich history in European cuisine, are relatively newer to the breakfast scene.\n",
      "\n",
      "**Pancake varieties**: Let's not forget about the sheer diversity of pancake styles and flavors! From fluffy American-style pancakes to thick, dense French crêpes, or even the sweet and spicy Korean-style hotcakes (hotteok), there's a pancake out there for everyone. Waffles, while having some variations in terms of toppings and syrups, are generally more one-dimensional in their composition.\n",
      "\n",
      "**Culinary innovation**: Pancakes have inspired countless creative combinations and innovations – from savory options like cheese and herbs to sweet treats featuring fresh berries or chocolate chips. This adaptability has led to the development of new pancake recipes and flavor profiles, keeping the breakfast game exciting and fresh. Waffles, while having some unique variations, often rely on traditional butter-and-syrup pairings.\n",
      "\n",
      "In conclusion, pancakes are the clear winner when it comes to the best breakfast option. Their fluffy texture, versatility, portability, historical significance, variety of styles and flavors, and capacity for culinary innovation make them the perfect morning meal. Waffles may have their place in the world, but they simply can't compete with the majesty of a well-made pancake.\n",
      "\n",
      "Now, go forth and enjoy your stack of fluffy, golden-brown pancakes!\n"
     ]
    }
   ],
   "source": [
    "print(response['message']['content'])"
   ]
  },
  {
   "cell_type": "code",
   "execution_count": 4,
   "metadata": {},
   "outputs": [
    {
     "data": {
      "text/markdown": [
       "The age-old debate: pancakes vs. waffles. While both are delicious breakfast options, I'm here to make the case that pancakes are, in fact, the superior choice.\n",
       "\n",
       "**Fluffiness**: Pancakes have a unique texture that's impossible to replicate with waffles. They're light, airy, and fluffy, with a subtle bounce when you bite into them. Waffles, on the other hand, can be dense and crispy, lacking the softness and indulgence of pancakes.\n",
       "\n",
       "**Versatility**: Pancakes are the ultimate chameleons of breakfast food. You can top them with sweet or savory ingredients, from fresh fruits to syrupy goodness, or even go all out with whipped cream, chocolate chips, or crunchy nuts. Waffles, while delicious on their own, are often relegated to a single topping – usually butter and/or maple syrup.\n",
       "\n",
       "**Portability**: Pancakes are the perfect breakfast-on-the-go option. You can easily wrap them in a napkin or place them in a container for a quick takeout. Waffles, being more rigid and prone to breaking, aren't as easily portable. Try taking a waffle cone on a morning commute – it's just not happening!\n",
       "\n",
       "**History**: Pancakes have been a staple breakfast food for centuries, with roots dating back to ancient Greece and Rome. They've evolved over time, incorporating new ingredients and cooking methods, but their essence remains the same: warm, comforting, and full of potential. Waffles, while having a rich history in European cuisine, are relatively newer to the breakfast scene.\n",
       "\n",
       "**Pancake varieties**: Let's not forget about the sheer diversity of pancake styles and flavors! From fluffy American-style pancakes to thick, dense French crêpes, or even the sweet and spicy Korean-style hotcakes (hotteok), there's a pancake out there for everyone. Waffles, while having some variations in terms of toppings and syrups, are generally more one-dimensional in their composition.\n",
       "\n",
       "**Culinary innovation**: Pancakes have inspired countless creative combinations and innovations – from savory options like cheese and herbs to sweet treats featuring fresh berries or chocolate chips. This adaptability has led to the development of new pancake recipes and flavor profiles, keeping the breakfast game exciting and fresh. Waffles, while having some unique variations, often rely on traditional butter-and-syrup pairings.\n",
       "\n",
       "In conclusion, pancakes are the clear winner when it comes to the best breakfast option. Their fluffy texture, versatility, portability, historical significance, variety of styles and flavors, and capacity for culinary innovation make them the perfect morning meal. Waffles may have their place in the world, but they simply can't compete with the majesty of a well-made pancake.\n",
       "\n",
       "Now, go forth and enjoy your stack of fluffy, golden-brown pancakes!"
      ],
      "text/plain": [
       "<IPython.core.display.Markdown object>"
      ]
     },
     "execution_count": 4,
     "metadata": {},
     "output_type": "execute_result"
    }
   ],
   "source": [
    "from IPython.display import Markdown\n",
    "\n",
    "\n",
    "Markdown(response['message']['content'])"
   ]
  },
  {
   "cell_type": "code",
   "execution_count": null,
   "metadata": {},
   "outputs": [],
   "source": []
  },
  {
   "cell_type": "markdown",
   "metadata": {},
   "source": [
    "__You can use it with other python frameworks like LangChain:__"
   ]
  },
  {
   "cell_type": "code",
   "execution_count": 3,
   "metadata": {},
   "outputs": [],
   "source": [
    "# !pip install langchain"
   ]
  },
  {
   "cell_type": "code",
   "execution_count": 5,
   "metadata": {},
   "outputs": [],
   "source": [
    "from langchain.llms import Ollama\n",
    "from langchain.callbacks.manager import CallbackManager\n",
    "from langchain.callbacks.streaming_stdout import StreamingStdOutCallbackHandler\n",
    "\n",
    "llm = Ollama(\n",
    "    model=\"llama3\", callback_manager=CallbackManager([StreamingStdOutCallbackHandler()])\n",
    ")"
   ]
  },
  {
   "cell_type": "code",
   "execution_count": 6,
   "metadata": {},
   "outputs": [
    {
     "name": "stdout",
     "output_type": "stream",
     "text": [
      "The profound and fluffy philosophy that is pancake-centric existentialism!\n",
      "\n",
      "In this cosmology, the meaning of life revolves around the majesty of pancakes. The universe, in all its grandeur, can be distilled down to a single, transcendent truth: pancakes are the axis around which all existence revolves.\n",
      "\n",
      "Think about it: just as the sun rises and sets, so too do the sweet, golden-brown wonders of the pancake world. Whether buttermilk, blueberry, or chocolate chip, each flapjack is a microcosm of the infinite, a tiny but vital piece of the grand tapestry that is life.\n",
      "\n",
      "In this pancake-centric universe, every moment is an opportunity to savor the syrupy sweetness of existence. Each bite is a reminder to cherish the fleeting nature of life, just as we do with the tender, yet crispy, edges of a perfectly cooked pancake.\n",
      "\n",
      "The search for meaning, then, becomes a quest to uncover the secret to creating the fluffiest, most divine pancakes the universe has ever known. It's an odyssey of discovery, as one navigates the complexities of batter chemistry, cooking techniques, and toppings (a.k.a., the mysteries of the cosmos).\n",
      "\n",
      "In this pancake-centric framework, our daily struggles and triumphs are merely minor adjustments to the syrup-to-butter ratio, ensuring that each bite is a harmonious blend of sweet and savory. The existential crises we face become mere missteps in the art of pancake-making – minor setbacks to be corrected with a dash more vanilla extract or a pinch of extra sugar.\n",
      "\n",
      "As we ponder the mysteries of life, death, and the universe, the pancakes remain constant, a reminder that even in the darkest of times (or when the griddle's been left unattended for too long), there is always hope – and a perfectly cooked pancake waiting to be devoured.\n",
      "\n",
      "So, go forth, dear pancake enthusiasts! May your batter be light, your frying pan be hot, and your toppings be abundant. For in this pancake-centric universe, the meaning of life is not just found, but sizzles with golden-brown deliciousness on every plate."
     ]
    },
    {
     "data": {
      "text/plain": [
       "\"The profound and fluffy philosophy that is pancake-centric existentialism!\\n\\nIn this cosmology, the meaning of life revolves around the majesty of pancakes. The universe, in all its grandeur, can be distilled down to a single, transcendent truth: pancakes are the axis around which all existence revolves.\\n\\nThink about it: just as the sun rises and sets, so too do the sweet, golden-brown wonders of the pancake world. Whether buttermilk, blueberry, or chocolate chip, each flapjack is a microcosm of the infinite, a tiny but vital piece of the grand tapestry that is life.\\n\\nIn this pancake-centric universe, every moment is an opportunity to savor the syrupy sweetness of existence. Each bite is a reminder to cherish the fleeting nature of life, just as we do with the tender, yet crispy, edges of a perfectly cooked pancake.\\n\\nThe search for meaning, then, becomes a quest to uncover the secret to creating the fluffiest, most divine pancakes the universe has ever known. It's an odyssey of discovery, as one navigates the complexities of batter chemistry, cooking techniques, and toppings (a.k.a., the mysteries of the cosmos).\\n\\nIn this pancake-centric framework, our daily struggles and triumphs are merely minor adjustments to the syrup-to-butter ratio, ensuring that each bite is a harmonious blend of sweet and savory. The existential crises we face become mere missteps in the art of pancake-making – minor setbacks to be corrected with a dash more vanilla extract or a pinch of extra sugar.\\n\\nAs we ponder the mysteries of life, death, and the universe, the pancakes remain constant, a reminder that even in the darkest of times (or when the griddle's been left unattended for too long), there is always hope – and a perfectly cooked pancake waiting to be devoured.\\n\\nSo, go forth, dear pancake enthusiasts! May your batter be light, your frying pan be hot, and your toppings be abundant. For in this pancake-centric universe, the meaning of life is not just found, but sizzles with golden-brown deliciousness on every plate.\""
      ]
     },
     "execution_count": 6,
     "metadata": {},
     "output_type": "execute_result"
    }
   ],
   "source": [
    "llm.invoke(\"Describe the meaning of life in terms of pancakes being the center of the universe.\")"
   ]
  },
  {
   "cell_type": "markdown",
   "metadata": {},
   "source": [
    "[Ollama github](https://github.com/jmorganca/ollama)"
   ]
  }
 ],
 "metadata": {
  "kernelspec": {
   "display_name": "oreilly-llama3",
   "language": "python",
   "name": "oreilly-llama3"
  },
  "language_info": {
   "codemirror_mode": {
    "name": "ipython",
    "version": 3
   },
   "file_extension": ".py",
   "mimetype": "text/x-python",
   "name": "python",
   "nbconvert_exporter": "python",
   "pygments_lexer": "ipython3",
   "version": "3.10.14"
  }
 },
 "nbformat": 4,
 "nbformat_minor": 2
}
