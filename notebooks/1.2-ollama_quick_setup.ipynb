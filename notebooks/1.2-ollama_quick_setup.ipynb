{
 "cells": [
  {
   "cell_type": "markdown",
   "metadata": {},
   "source": [
    "1. Go [here](https://ollama.ai/) and download the ollama executable for your OS.\n",
    "2. Then you can use it within the terminal\n",
    "\n",
    "![](2023-11-01-17-20-28.png)\n",
    "\n"
   ]
  },
  {
   "cell_type": "markdown",
   "metadata": {},
   "source": [
    "![](2023-11-01-17-20-52.png)"
   ]
  },
  {
   "cell_type": "markdown",
   "metadata": {},
   "source": [
    "To run it as a a REST API call"
   ]
  },
  {
   "cell_type": "markdown",
   "metadata": {},
   "source": [
    "!curl -X POST http://localhost:11434/api/generate -d '{\n",
    "  \"model\": \"llama2\",\n",
    "  \"prompt\":\"Why is the sky blue?\"\n",
    " }'"
   ]
  },
  {
   "cell_type": "markdown",
   "metadata": {},
   "source": [
    "What you get in return is a stream with the API response:\n",
    "\n",
    "![](2023-11-01-17-23-51.png)"
   ]
  },
  {
   "cell_type": "markdown",
   "metadata": {},
   "source": [
    "Memory requirements:\n",
    "\n",
    "![](2023-11-01-17-22-32.png)"
   ]
  },
  {
   "cell_type": "markdown",
   "metadata": {},
   "source": [
    "Running Ollama models with Langchain Python API."
   ]
  },
  {
   "cell_type": "code",
   "execution_count": 2,
   "metadata": {},
   "outputs": [],
   "source": [
    "# !pip install langchain"
   ]
  },
  {
   "cell_type": "code",
   "execution_count": 1,
   "metadata": {},
   "outputs": [],
   "source": [
    "from langchain.llms import Ollama\n",
    "from langchain.callbacks.manager import CallbackManager\n",
    "from langchain.callbacks.streaming_stdout import StreamingStdOutCallbackHandler\n",
    "\n",
    "llm = Ollama(\n",
    "    model=\"llama2\", callback_manager=CallbackManager([StreamingStdOutCallbackHandler()])\n",
    ")"
   ]
  },
  {
   "cell_type": "code",
   "execution_count": 3,
   "metadata": {},
   "outputs": [
    {
     "name": "stdout",
     "output_type": "stream",
     "text": [
      "\n",
      "The meaning of life is a philosophical and existential question that has been debated throughout human history. It's a complex and multi-faceted topic, and there is no one definitive answer. However, here are some possible ways to approach the question:\n",
      "\n",
      "1. Biological perspective: From a biological perspective, the meaning of life can be seen as the perpetuation of the species through reproduction. This means that the ultimate goal of living organisms is to survive and reproduce, passing on their genetic material to the next generation.\n",
      "2. Survival and self-preservation: Some people might argue that the meaning of life is simply to survive and preserve oneself. From this perspective, the purpose of life is to avoid death and maintain one's physical and mental well-being.\n",
      "3. Personal fulfillment: Others might suggest that the meaning of life is to find personal fulfillment and happiness. According to this view, the purpose of life is to pursue one's passions and interests, cultivate meaningful relationships, and live a life that is rich in experiences and memories.\n",
      "4. Social and cultural norms: Culture and society can also provide clues about the meaning of life. For example, some cultures place a strong emphasis on spirituality and religious belief, while others prioritize material success and worldly achievements.\n",
      "5. Existentialism: Existentialist philosophers argue that the meaning of life is not predetermined or inherent, but rather something that individuals must create for themselves through their choices and actions. According to this view, life has no inherent purpose, but it is up to each person to give their life meaning and significance.\n",
      "6. Philosophical perspectives: Many philosophers have grappled with the question of the meaning of life throughout history. Some have argued that life has no inherent meaning, but rather it is up to individuals to create their own purpose and meaning. Others have suggested that life has a predetermined purpose or destiny, while others still believe that life's meaning is to seek happiness and fulfillment.\n",
      "7. Religious perspectives: Many religious traditions offer beliefs about the meaning of life. For example, some believe that the purpose of life is to serve a higher power or to follow a set of moral guidelines in order to achieve spiritual enlightenment or salvation.\n",
      "8. Personal growth: Some people might argue that the meaning of life is to learn and grow as individuals. According to this view, the purpose of life is to develop one's character, expand one's knowledge and understanding, and become a better person over time.\n",
      "9. Altruism and helping others: Others might suggest that the meaning of life is to help others and make a positive impact on the world. According to this view, the purpose of life is not just to fulfill oneself, but also to contribute to the greater good.\n",
      "10. Legacy: Some people might believe that the meaning of life is to leave a lasting legacy or to make a mark on the world that will outlast them. According to this view, the purpose of life is to create something that will endure beyond one's own lifespan.\n",
      "\n",
      "Ultimately, the meaning of life is a deeply personal and subjective question that each individual must answer for themselves. While there may be various philosophical, cultural, and religious perspectives on the matter, the true meaning of life is something that each person must discover for themselves through their own experiences, beliefs, and values."
     ]
    },
    {
     "data": {
      "text/plain": [
       "\"\\nThe meaning of life is a philosophical and existential question that has been debated throughout human history. It's a complex and multi-faceted topic, and there is no one definitive answer. However, here are some possible ways to approach the question:\\n\\n1. Biological perspective: From a biological perspective, the meaning of life can be seen as the perpetuation of the species through reproduction. This means that the ultimate goal of living organisms is to survive and reproduce, passing on their genetic material to the next generation.\\n2. Survival and self-preservation: Some people might argue that the meaning of life is simply to survive and preserve oneself. From this perspective, the purpose of life is to avoid death and maintain one's physical and mental well-being.\\n3. Personal fulfillment: Others might suggest that the meaning of life is to find personal fulfillment and happiness. According to this view, the purpose of life is to pursue one's passions and interests, cultivate meaningful relationships, and live a life that is rich in experiences and memories.\\n4. Social and cultural norms: Culture and society can also provide clues about the meaning of life. For example, some cultures place a strong emphasis on spirituality and religious belief, while others prioritize material success and worldly achievements.\\n5. Existentialism: Existentialist philosophers argue that the meaning of life is not predetermined or inherent, but rather something that individuals must create for themselves through their choices and actions. According to this view, life has no inherent purpose, but it is up to each person to give their life meaning and significance.\\n6. Philosophical perspectives: Many philosophers have grappled with the question of the meaning of life throughout history. Some have argued that life has no inherent meaning, but rather it is up to individuals to create their own purpose and meaning. Others have suggested that life has a predetermined purpose or destiny, while others still believe that life's meaning is to seek happiness and fulfillment.\\n7. Religious perspectives: Many religious traditions offer beliefs about the meaning of life. For example, some believe that the purpose of life is to serve a higher power or to follow a set of moral guidelines in order to achieve spiritual enlightenment or salvation.\\n8. Personal growth: Some people might argue that the meaning of life is to learn and grow as individuals. According to this view, the purpose of life is to develop one's character, expand one's knowledge and understanding, and become a better person over time.\\n9. Altruism and helping others: Others might suggest that the meaning of life is to help others and make a positive impact on the world. According to this view, the purpose of life is not just to fulfill oneself, but also to contribute to the greater good.\\n10. Legacy: Some people might believe that the meaning of life is to leave a lasting legacy or to make a mark on the world that will outlast them. According to this view, the purpose of life is to create something that will endure beyond one's own lifespan.\\n\\nUltimately, the meaning of life is a deeply personal and subjective question that each individual must answer for themselves. While there may be various philosophical, cultural, and religious perspectives on the matter, the true meaning of life is something that each person must discover for themselves through their own experiences, beliefs, and values.\""
      ]
     },
     "execution_count": 3,
     "metadata": {},
     "output_type": "execute_result"
    }
   ],
   "source": [
    "llm.invoke(\"What is the meaning of life?\")"
   ]
  },
  {
   "cell_type": "markdown",
   "metadata": {},
   "source": [
    "# Ollama with Llama-index"
   ]
  },
  {
   "cell_type": "code",
   "execution_count": 4,
   "metadata": {},
   "outputs": [],
   "source": [
    "# !pip install llama-index\n",
    "# !pip install llama-index-llms-ollama"
   ]
  },
  {
   "cell_type": "code",
   "execution_count": 2,
   "metadata": {},
   "outputs": [
    {
     "name": "stdout",
     "output_type": "stream",
     "text": [
      "\n",
      "In statistics, a probability distribution is a function that describes the probability of different values of a random variable occurring. The probability distribution can be represented graphically as a histogram or probability density function (PDF). It defines the probability of each possible value of the random variable, and shows how these probabilities are related to the value of the variable.\n",
      "\n",
      "A probability distribution can be defined for a continuous random variable, such as the height of a person, the time it takes to travel from one place to another, or the temperature in a particular location. It can also be defined for discrete random variables, such as the number of heads obtained when flipping a coin, the number of defective products in a batch, or the number of people who prefer a particular brand of coffee.\n",
      "\n",
      "The probability distribution is typically denoted by a function that assigns a probability value to each possible value of the random variable. The most common types of probability distributions are:\n",
      "\n",
      "1. Uniform distribution: The probability density function (PDF) is constant over a given interval.\n",
      "2. Exponential distribution: The PDF decays exponentially as the random variable increases.\n",
      "3. Normal distribution: The PDF is symmetric about the mean and decays slowly as the random variable increases.\n",
      "4. Poisson distribution: The PDF is a count of the number of events that occur in a fixed interval of time or space.\n",
      "5. Binomial distribution: The PDF is the probability of obtaining a certain number of successes in a fixed number of independent trials, where each trial has a constant probability of success.\n",
      "6. Chi-squared distribution: The PDF is the probability of observing a particular value of the chi-squared statistic, which is used to test hypotheses about the distribution of a variable.\n",
      "7. F-distribution: The PDF is the probability of observing a particular value of the F-statistic, which is used to test hypotheses about the relationship between two variables.\n",
      "8. Gamma distribution: The PDF is the probability of obtaining a particular value of the gamma function, which is used to model the distribution of positive random variables.\n",
      "9. Beta distribution: The PDF is the probability of obtaining a particular value of the beta function, which is used to model the distribution of binary random variables.\n",
      "10. Cauchy distribution: The PDF is the probability of obtaining a particular value of the Cauchy distribution, which is used to model the distribution of continuous random variables that have a heavy tail.\n",
      "\n",
      "Probability distributions are important in statistics because they provide a mathematical framework for understanding and analyzing random phenomena. By understanding the probability distribution of a random variable, we can make predictions about the likelihood of different outcomes, and we can design experiments to test hypotheses about the distribution of the variable.\n"
     ]
    }
   ],
   "source": [
    "# source: https://gpt-index.readthedocs.io/en/stable/examples/llm/ollama.html\n",
    "\n",
    "\n",
    "from llama_index.llms.ollama import Ollama\n",
    "\n",
    "llm = Ollama(model=\"llama2\")\n",
    "\n",
    "resp = llm.complete(\"What is a probability distribution?\")\n",
    "\n",
    "print(resp)"
   ]
  },
  {
   "cell_type": "code",
   "execution_count": 4,
   "metadata": {},
   "outputs": [
    {
     "name": "stdout",
     "output_type": "stream",
     "text": [
      "assistant: \n",
      "Learning to think with sketches involves developing the ability to visually represent and solve problems using simple drawings or diagrams. This skill is known as \"computational thinking\" or \"sketching thinking.\" Computational thinking is a problem-solving approach that involves breaking down complex problems into smaller, manageable parts, analyzing them, and finding patterns and relationships between them. It is an essential skill for anyone interested in STEM fields (science, technology, engineering, and mathematics) and can be applied to a wide range of subjects, from physics and biology to computer science and data analysis.\n",
      "\n",
      "Here are some ways to learn computational thinking:\n",
      "\n",
      "1. Start simple: Begin by sketching basic shapes and lines to represent objects or ideas. Gradually move on to more complex drawings and diagrams as your skills improve.\n",
      "2. Practice, practice, practice: The more you sketch, the better you will become at visualizing and solving problems. Set aside time each day or week to practice sketching.\n",
      "3. Use a variety of tools: Experiment with different drawing tools, such as pencils, markers, and digital software. This will help you develop a range of skills and techniques.\n",
      "4. Learn from others: Observe how other artists and designers solve problems visually. Study their techniques and try to replicate them in your own sketches.\n",
      "5. Apply computational thinking to real-world problems: Try to apply your sketching skills to everyday problems, such as planning a trip or solving a puzzle. This will help you see the practical applications of computational thinking.\n",
      "6. Take online courses or workshops: There are many online resources available that teach computational thinking and sketching techniques. Look for courses or workshops that cover topics such as visual thinking, sketchnoting, and mind mapping.\n",
      "7. Join a community: Connect with other sketchers and learn from their experiences. Join online communities or attend local meetups to share ideas and get feedback on your sketches.\n",
      "8. Use visualization techniques: Practice visualizing complex information by breaking it down into smaller parts and creating diagrams or flowcharts to help you understand the relationships between them.\n",
      "9. Learn to see patterns: Develop your ability to recognize patterns in data, such as trends, correlations, and anomalies. This will help you solve problems more efficiently.\n",
      "10. Reflect on your learning: Take time to reflect on what you have learned and how you can apply it to future sketches. Identify areas where you need improvement and set goals for yourself to continue developing your skills.\n",
      "\n",
      "By following these steps, you can learn to think with sketches and develop the skills necessary for computational thinking.\n"
     ]
    }
   ],
   "source": [
    "# source: https://gpt-index.readthedocs.io/en/stable/examples/llm/ollama.html\n",
    "# Call chat with a list of messages in llama-index\n",
    "\n",
    "from llama_index.core.llms import ChatMessage\n",
    "\n",
    "messages = [\n",
    "    ChatMessage(\n",
    "        role=\"system\", content=\"How can one learn to think with sketches?\"\n",
    "    ),\n",
    "    ChatMessage(\n",
    "        role=\"user\", content=\"What is computational thinking?\"),\n",
    "]\n",
    "resp = llm.chat(messages)\n",
    "print(resp)"
   ]
  },
  {
   "cell_type": "markdown",
   "metadata": {},
   "source": [
    "[Ollama github](https://github.com/jmorganca/ollama)"
   ]
  }
 ],
 "metadata": {
  "kernelspec": {
   "display_name": "oreilly-llama2",
   "language": "python",
   "name": "oreilly-llama2"
  },
  "language_info": {
   "codemirror_mode": {
    "name": "ipython",
    "version": 3
   },
   "file_extension": ".py",
   "mimetype": "text/x-python",
   "name": "python",
   "nbconvert_exporter": "python",
   "pygments_lexer": "ipython3",
   "version": "3.10.14"
  }
 },
 "nbformat": 4,
 "nbformat_minor": 2
}
