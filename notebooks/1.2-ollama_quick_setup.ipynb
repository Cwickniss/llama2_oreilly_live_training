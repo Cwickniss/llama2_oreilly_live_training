{
 "cells": [
  {
   "cell_type": "markdown",
   "metadata": {},
   "source": [
    "1. Go [here](https://ollama.ai/) and download the ollama executable for your OS.\n",
    "2. Then you can use it within the terminal\n",
    "\n",
    "![](2023-11-01-17-20-28.png)\n",
    "\n"
   ]
  },
  {
   "cell_type": "markdown",
   "metadata": {},
   "source": [
    "![](2023-11-01-17-20-52.png)"
   ]
  },
  {
   "cell_type": "markdown",
   "metadata": {},
   "source": [
    "To run it as a a REST API call"
   ]
  },
  {
   "cell_type": "markdown",
   "metadata": {},
   "source": [
    "!curl -X POST http://localhost:11434/api/generate -d '{\n",
    "  \"model\": \"llama2\",\n",
    "  \"prompt\":\"Why is the sky blue?\"\n",
    " }'"
   ]
  },
  {
   "cell_type": "markdown",
   "metadata": {},
   "source": [
    "What you get in return is a stream with the API response:\n",
    "\n",
    "![](2023-11-01-17-23-51.png)"
   ]
  },
  {
   "cell_type": "markdown",
   "metadata": {},
   "source": [
    "Memory requirements:\n",
    "\n",
    "![](2023-11-01-17-22-32.png)"
   ]
  },
  {
   "cell_type": "markdown",
   "metadata": {},
   "source": [
    "Running Ollama models with Langchain Python API."
   ]
  },
  {
   "cell_type": "code",
   "execution_count": 2,
   "metadata": {},
   "outputs": [],
   "source": [
    "# !pip install langchain"
   ]
  },
  {
   "cell_type": "code",
   "execution_count": 1,
   "metadata": {},
   "outputs": [],
   "source": [
    "from langchain.llms import Ollama\n",
    "from langchain.callbacks.manager import CallbackManager\n",
    "from langchain.callbacks.streaming_stdout import StreamingStdOutCallbackHandler\n",
    "\n",
    "llm = Ollama(\n",
    "    model=\"llama3\", callback_manager=CallbackManager([StreamingStdOutCallbackHandler()])\n",
    ")"
   ]
  },
  {
   "cell_type": "code",
   "execution_count": 2,
   "metadata": {},
   "outputs": [
    {
     "name": "stdout",
     "output_type": "stream",
     "text": [
      "The question of what the meaning of life is has been debated and explored by philosophers, theologians, scientists, and scholars across various disciplines. While there may not be a single definitive answer, here are some possible perspectives:\n",
      "\n",
      "1. **Purpose-driven**: Some people believe that the meaning of life is to fulfill one's purpose or passion. This could be related to their profession, relationships, creative pursuits, or personal values.\n",
      "2. **Existentialism**: The existentialist perspective posits that individuals create their own meaning in life. According to this view, life has no inherent meaning, and it's up to each person to give their existence significance through their choices, actions, and experiences.\n",
      "3. **Biological/evolutionary**: From a biological or evolutionary standpoint, the meaning of life might be seen as the perpetuation of the species, ensuring the continuation of human existence. This perspective emphasizes the importance of reproduction, survival, and adaptation.\n",
      "4. **Spiritual/mystical**: Many spiritual and mystical traditions believe that the meaning of life is to connect with a higher power, transcendence, or the divine. This could involve seeking enlightenment, experiencing oneness with the universe, or fulfilling one's spiritual purpose.\n",
      "5. **Humanist**: Humanists often focus on the inherent value and dignity of human life. According to this perspective, the meaning of life is found in the pursuit of happiness, fulfillment, and self-actualization, as well as contributing to the greater good through relationships, community, and personal growth.\n",
      "6. **Nihilistic**: A nihilistic view suggests that the meaning of life may not exist at all. This perspective posits that life is inherently meaningless, and any attempts to find meaning are ultimately futile.\n",
      "7. **Social/cultural**: The social and cultural context can also shape our understanding of the meaning of life. For example, some cultures emphasize family, community, or tradition as the source of meaning, while others focus on individual achievement, progress, or innovation.\n",
      "\n",
      "Ultimately, the meaning of life is a highly personal and subjective question. It may be influenced by one's values, beliefs, experiences, and circumstances. Some people may find meaning in multiple areas, while others may find it in a single aspect of their lives.\n",
      "\n",
      "What do you think? How do you perceive the meaning of life?"
     ]
    },
    {
     "data": {
      "text/plain": [
       "\"The question of what the meaning of life is has been debated and explored by philosophers, theologians, scientists, and scholars across various disciplines. While there may not be a single definitive answer, here are some possible perspectives:\\n\\n1. **Purpose-driven**: Some people believe that the meaning of life is to fulfill one's purpose or passion. This could be related to their profession, relationships, creative pursuits, or personal values.\\n2. **Existentialism**: The existentialist perspective posits that individuals create their own meaning in life. According to this view, life has no inherent meaning, and it's up to each person to give their existence significance through their choices, actions, and experiences.\\n3. **Biological/evolutionary**: From a biological or evolutionary standpoint, the meaning of life might be seen as the perpetuation of the species, ensuring the continuation of human existence. This perspective emphasizes the importance of reproduction, survival, and adaptation.\\n4. **Spiritual/mystical**: Many spiritual and mystical traditions believe that the meaning of life is to connect with a higher power, transcendence, or the divine. This could involve seeking enlightenment, experiencing oneness with the universe, or fulfilling one's spiritual purpose.\\n5. **Humanist**: Humanists often focus on the inherent value and dignity of human life. According to this perspective, the meaning of life is found in the pursuit of happiness, fulfillment, and self-actualization, as well as contributing to the greater good through relationships, community, and personal growth.\\n6. **Nihilistic**: A nihilistic view suggests that the meaning of life may not exist at all. This perspective posits that life is inherently meaningless, and any attempts to find meaning are ultimately futile.\\n7. **Social/cultural**: The social and cultural context can also shape our understanding of the meaning of life. For example, some cultures emphasize family, community, or tradition as the source of meaning, while others focus on individual achievement, progress, or innovation.\\n\\nUltimately, the meaning of life is a highly personal and subjective question. It may be influenced by one's values, beliefs, experiences, and circumstances. Some people may find meaning in multiple areas, while others may find it in a single aspect of their lives.\\n\\nWhat do you think? How do you perceive the meaning of life?\""
      ]
     },
     "execution_count": 2,
     "metadata": {},
     "output_type": "execute_result"
    }
   ],
   "source": [
    "llm.invoke(\"What is the meaning of life?\")"
   ]
  },
  {
   "cell_type": "markdown",
   "metadata": {},
   "source": [
    "# Ollama with Llama-index"
   ]
  },
  {
   "cell_type": "code",
   "execution_count": 4,
   "metadata": {},
   "outputs": [],
   "source": [
    "# !pip install llama-index\n",
    "# !pip install llama-index-llms-ollama"
   ]
  },
  {
   "cell_type": "code",
   "execution_count": 2,
   "metadata": {},
   "outputs": [
    {
     "name": "stdout",
     "output_type": "stream",
     "text": [
      "\n",
      "In statistics, a probability distribution is a function that describes the probability of different values of a random variable occurring. The probability distribution can be represented graphically as a histogram or probability density function (PDF). It defines the probability of each possible value of the random variable, and shows how these probabilities are related to the value of the variable.\n",
      "\n",
      "A probability distribution can be defined for a continuous random variable, such as the height of a person, the time it takes to travel from one place to another, or the temperature in a particular location. It can also be defined for discrete random variables, such as the number of heads obtained when flipping a coin, the number of defective products in a batch, or the number of people who prefer a particular brand of coffee.\n",
      "\n",
      "The probability distribution is typically denoted by a function that assigns a probability value to each possible value of the random variable. The most common types of probability distributions are:\n",
      "\n",
      "1. Uniform distribution: The probability density function (PDF) is constant over a given interval.\n",
      "2. Exponential distribution: The PDF decays exponentially as the random variable increases.\n",
      "3. Normal distribution: The PDF is symmetric about the mean and decays slowly as the random variable increases.\n",
      "4. Poisson distribution: The PDF is a count of the number of events that occur in a fixed interval of time or space.\n",
      "5. Binomial distribution: The PDF is the probability of obtaining a certain number of successes in a fixed number of independent trials, where each trial has a constant probability of success.\n",
      "6. Chi-squared distribution: The PDF is the probability of observing a particular value of the chi-squared statistic, which is used to test hypotheses about the distribution of a variable.\n",
      "7. F-distribution: The PDF is the probability of observing a particular value of the F-statistic, which is used to test hypotheses about the relationship between two variables.\n",
      "8. Gamma distribution: The PDF is the probability of obtaining a particular value of the gamma function, which is used to model the distribution of positive random variables.\n",
      "9. Beta distribution: The PDF is the probability of obtaining a particular value of the beta function, which is used to model the distribution of binary random variables.\n",
      "10. Cauchy distribution: The PDF is the probability of obtaining a particular value of the Cauchy distribution, which is used to model the distribution of continuous random variables that have a heavy tail.\n",
      "\n",
      "Probability distributions are important in statistics because they provide a mathematical framework for understanding and analyzing random phenomena. By understanding the probability distribution of a random variable, we can make predictions about the likelihood of different outcomes, and we can design experiments to test hypotheses about the distribution of the variable.\n"
     ]
    }
   ],
   "source": [
    "# source: https://gpt-index.readthedocs.io/en/stable/examples/llm/ollama.html\n",
    "\n",
    "\n",
    "from llama_index.llms.ollama import Ollama\n",
    "\n",
    "llm = Ollama(model=\"llama2\")\n",
    "\n",
    "resp = llm.complete(\"What is a probability distribution?\")\n",
    "\n",
    "print(resp)"
   ]
  },
  {
   "cell_type": "code",
   "execution_count": 4,
   "metadata": {},
   "outputs": [
    {
     "name": "stdout",
     "output_type": "stream",
     "text": [
      "assistant: \n",
      "Learning to think with sketches involves developing the ability to visually represent and solve problems using simple drawings or diagrams. This skill is known as \"computational thinking\" or \"sketching thinking.\" Computational thinking is a problem-solving approach that involves breaking down complex problems into smaller, manageable parts, analyzing them, and finding patterns and relationships between them. It is an essential skill for anyone interested in STEM fields (science, technology, engineering, and mathematics) and can be applied to a wide range of subjects, from physics and biology to computer science and data analysis.\n",
      "\n",
      "Here are some ways to learn computational thinking:\n",
      "\n",
      "1. Start simple: Begin by sketching basic shapes and lines to represent objects or ideas. Gradually move on to more complex drawings and diagrams as your skills improve.\n",
      "2. Practice, practice, practice: The more you sketch, the better you will become at visualizing and solving problems. Set aside time each day or week to practice sketching.\n",
      "3. Use a variety of tools: Experiment with different drawing tools, such as pencils, markers, and digital software. This will help you develop a range of skills and techniques.\n",
      "4. Learn from others: Observe how other artists and designers solve problems visually. Study their techniques and try to replicate them in your own sketches.\n",
      "5. Apply computational thinking to real-world problems: Try to apply your sketching skills to everyday problems, such as planning a trip or solving a puzzle. This will help you see the practical applications of computational thinking.\n",
      "6. Take online courses or workshops: There are many online resources available that teach computational thinking and sketching techniques. Look for courses or workshops that cover topics such as visual thinking, sketchnoting, and mind mapping.\n",
      "7. Join a community: Connect with other sketchers and learn from their experiences. Join online communities or attend local meetups to share ideas and get feedback on your sketches.\n",
      "8. Use visualization techniques: Practice visualizing complex information by breaking it down into smaller parts and creating diagrams or flowcharts to help you understand the relationships between them.\n",
      "9. Learn to see patterns: Develop your ability to recognize patterns in data, such as trends, correlations, and anomalies. This will help you solve problems more efficiently.\n",
      "10. Reflect on your learning: Take time to reflect on what you have learned and how you can apply it to future sketches. Identify areas where you need improvement and set goals for yourself to continue developing your skills.\n",
      "\n",
      "By following these steps, you can learn to think with sketches and develop the skills necessary for computational thinking.\n"
     ]
    }
   ],
   "source": [
    "# source: https://gpt-index.readthedocs.io/en/stable/examples/llm/ollama.html\n",
    "# Call chat with a list of messages in llama-index\n",
    "\n",
    "from llama_index.core.llms import ChatMessage\n",
    "\n",
    "messages = [\n",
    "    ChatMessage(\n",
    "        role=\"system\", content=\"How can one learn to think with sketches?\"\n",
    "    ),\n",
    "    ChatMessage(\n",
    "        role=\"user\", content=\"What is computational thinking?\"),\n",
    "]\n",
    "resp = llm.chat(messages)\n",
    "print(resp)"
   ]
  },
  {
   "cell_type": "markdown",
   "metadata": {},
   "source": [
    "[Ollama github](https://github.com/jmorganca/ollama)"
   ]
  }
 ],
 "metadata": {
  "kernelspec": {
   "display_name": "oreilly-agents",
   "language": "python",
   "name": "oreilly-agents"
  },
  "language_info": {
   "codemirror_mode": {
    "name": "ipython",
    "version": 3
   },
   "file_extension": ".py",
   "mimetype": "text/x-python",
   "name": "python",
   "nbconvert_exporter": "python",
   "pygments_lexer": "ipython3",
   "version": "3.11.9"
  }
 },
 "nbformat": 4,
 "nbformat_minor": 2
}
