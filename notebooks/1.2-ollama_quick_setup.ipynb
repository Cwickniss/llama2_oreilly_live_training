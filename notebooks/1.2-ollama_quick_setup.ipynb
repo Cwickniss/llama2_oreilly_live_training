{
 "cells": [
  {
   "cell_type": "markdown",
   "metadata": {},
   "source": [
    "1. Go [here](https://ollama.ai/) and download the ollama executable for your OS.\n",
    "2. Then you can use it within the terminal\n",
    "\n",
    "![](2023-11-01-17-20-28.png)\n",
    "\n"
   ]
  },
  {
   "cell_type": "markdown",
   "metadata": {},
   "source": [
    "![](2023-11-01-17-20-52.png)"
   ]
  },
  {
   "cell_type": "markdown",
   "metadata": {},
   "source": [
    "To run it as a a REST API call"
   ]
  },
  {
   "cell_type": "markdown",
   "metadata": {},
   "source": [
    "!curl -X POST http://localhost:11434/api/generate -d '{\n",
    "  \"model\": \"llama2\",\n",
    "  \"prompt\":\"Why is the sky blue?\"\n",
    " }'"
   ]
  },
  {
   "cell_type": "markdown",
   "metadata": {},
   "source": [
    "What you get in return is a stream with the API response:\n",
    "\n",
    "![](2023-11-01-17-23-51.png)"
   ]
  },
  {
   "cell_type": "markdown",
   "metadata": {},
   "source": [
    "Memory requirements:\n",
    "\n",
    "![](2023-11-01-17-22-32.png)"
   ]
  },
  {
   "cell_type": "markdown",
   "metadata": {},
   "source": [
    "Running Ollama models with Langchain Python API."
   ]
  },
  {
   "cell_type": "code",
   "execution_count": 2,
   "metadata": {},
   "outputs": [],
   "source": [
    "# !pip install langchain"
   ]
  },
  {
   "cell_type": "code",
   "execution_count": 3,
   "metadata": {},
   "outputs": [],
   "source": [
    "from langchain.llms import Ollama\n",
    "from langchain.callbacks.manager import CallbackManager\n",
    "from langchain.callbacks.streaming_stdout import StreamingStdOutCallbackHandler\n",
    "\n",
    "llm = Ollama(\n",
    "    model=\"llama2\", callback_manager=CallbackManager([StreamingStdOutCallbackHandler()])\n",
    ")"
   ]
  },
  {
   "cell_type": "code",
   "execution_count": 4,
   "metadata": {},
   "outputs": [
    {
     "name": "stdout",
     "output_type": "stream",
     "text": [
      " In statistics, a probability distribution is a function that describes the probability of each possible value of a random variable occurring. everybody in the world has their own unique set of beliefs and opinions about the likelihood of different outcomes. by plotting these subjective probabilities on a graph, we can create a probability distribution. \n",
      "\n",
      "The most common types of probability distributions are:\n",
      "\n",
      "1. Uniform Distribution: A probability distribution where every possible value has an equal chance of occurring.\n",
      "2. Normal Distribution (Gaussian Distribution): A probability distribution that is shaped like a bell curve and is commonly used to model real-valued random variables.\n",
      "3. Poisson Distribution: A probability distribution that models the number of events that occur within a fixed interval of time or space.\n",
      "4. Exponential Distribution: A probability distribution that models the time between events in a Markov chain.\n",
      "5. Binomial Distribution: A probability distribution that models the number of successes in a fixed number of independent trials.\n",
      "6. Geometric Distribution: A probability distribution that models the number of failures before the first success in a sequence of independent trials.\n",
      "7. Negative Binomial Distribution: A probability distribution that models the number of failures before the first success in a sequence of independent trials, where the probability of failure decreases as the number of trials increases.\n",
      "8. Multinomial Distribution: A probability distribution that models the number of successes in each of multiple categories in a fixed number of independent trials.\n",
      "9. Hypergeometric Distribution: A probability distribution that models the number of successes in a fixed number of independent trials, where the probabilities of success and failure are not equal.\n",
      "10. Beta Distribution: A probability distribution that models the probability of an event occurring based on two underlying random variables.\n",
      "\n",
      "Each of these probability distributions has its own unique properties and is used to model different types of real-world phenomena. Understanding these distributions can help us analyze and interpret data, make predictions, and understand the likelihood of different outcomes in various situations."
     ]
    },
    {
     "data": {
      "text/plain": [
       "' In statistics, a probability distribution is a function that describes the probability of each possible value of a random variable occurring. everybody in the world has their own unique set of beliefs and opinions about the likelihood of different outcomes. by plotting these subjective probabilities on a graph, we can create a probability distribution. \\n\\nThe most common types of probability distributions are:\\n\\n1. Uniform Distribution: A probability distribution where every possible value has an equal chance of occurring.\\n2. Normal Distribution (Gaussian Distribution): A probability distribution that is shaped like a bell curve and is commonly used to model real-valued random variables.\\n3. Poisson Distribution: A probability distribution that models the number of events that occur within a fixed interval of time or space.\\n4. Exponential Distribution: A probability distribution that models the time between events in a Markov chain.\\n5. Binomial Distribution: A probability distribution that models the number of successes in a fixed number of independent trials.\\n6. Geometric Distribution: A probability distribution that models the number of failures before the first success in a sequence of independent trials.\\n7. Negative Binomial Distribution: A probability distribution that models the number of failures before the first success in a sequence of independent trials, where the probability of failure decreases as the number of trials increases.\\n8. Multinomial Distribution: A probability distribution that models the number of successes in each of multiple categories in a fixed number of independent trials.\\n9. Hypergeometric Distribution: A probability distribution that models the number of successes in a fixed number of independent trials, where the probabilities of success and failure are not equal.\\n10. Beta Distribution: A probability distribution that models the probability of an event occurring based on two underlying random variables.\\n\\nEach of these probability distributions has its own unique properties and is used to model different types of real-world phenomena. Understanding these distributions can help us analyze and interpret data, make predictions, and understand the likelihood of different outcomes in various situations.'"
      ]
     },
     "execution_count": 4,
     "metadata": {},
     "output_type": "execute_result"
    }
   ],
   "source": [
    "llm(\"What is a probability distribution?\")"
   ]
  },
  {
   "cell_type": "markdown",
   "metadata": {},
   "source": [
    "# Ollama with Llama-index"
   ]
  },
  {
   "cell_type": "code",
   "execution_count": 5,
   "metadata": {},
   "outputs": [
    {
     "name": "stdout",
     "output_type": "stream",
     "text": [
      "Collecting llama-index\n",
      "  Downloading llama_index-0.8.56-py3-none-any.whl.metadata (7.7 kB)\n",
      "Requirement already satisfied: SQLAlchemy>=1.4.49 in /Users/greatmaster/miniconda3/envs/oreilly_llama2/lib/python3.11/site-packages (from SQLAlchemy[asyncio]>=1.4.49->llama-index) (2.0.22)\n",
      "Collecting aiostream<0.6.0,>=0.5.2 (from llama-index)\n",
      "  Downloading aiostream-0.5.2-py3-none-any.whl.metadata (9.9 kB)\n",
      "Collecting dataclasses-json<0.6.0,>=0.5.7 (from llama-index)\n",
      "  Downloading dataclasses_json-0.5.14-py3-none-any.whl.metadata (22 kB)\n",
      "Collecting deprecated>=1.2.9.3 (from llama-index)\n",
      "  Downloading Deprecated-1.2.14-py2.py3-none-any.whl.metadata (5.4 kB)\n",
      "Requirement already satisfied: fsspec>=2023.5.0 in /Users/greatmaster/miniconda3/envs/oreilly_llama2/lib/python3.11/site-packages (from llama-index) (2023.10.0)\n",
      "Requirement already satisfied: langchain>=0.0.303 in /Users/greatmaster/miniconda3/envs/oreilly_llama2/lib/python3.11/site-packages (from llama-index) (0.0.327)\n",
      "Requirement already satisfied: nest-asyncio<2.0.0,>=1.5.8 in /Users/greatmaster/miniconda3/envs/oreilly_llama2/lib/python3.11/site-packages (from llama-index) (1.5.8)\n",
      "Collecting nltk<4.0.0,>=3.8.1 (from llama-index)\n",
      "  Downloading nltk-3.8.1-py3-none-any.whl (1.5 MB)\n",
      "\u001b[2K     \u001b[38;2;114;156;31m━━━━━━━━━━━━━━━━━━━━━━━━━━━━━━━━━━━━━━━━\u001b[0m \u001b[32m1.5/1.5 MB\u001b[0m \u001b[31m22.6 MB/s\u001b[0m eta \u001b[36m0:00:00\u001b[0m31m13.0 MB/s\u001b[0m eta \u001b[36m0:00:01\u001b[0m\n",
      "\u001b[?25hRequirement already satisfied: numpy in /Users/greatmaster/miniconda3/envs/oreilly_llama2/lib/python3.11/site-packages (from llama-index) (1.26.1)\n",
      "Collecting openai>=0.26.4 (from llama-index)\n",
      "  Using cached openai-0.28.1-py3-none-any.whl.metadata (11 kB)\n",
      "Collecting pandas (from llama-index)\n",
      "  Downloading pandas-2.1.2-cp311-cp311-macosx_11_0_arm64.whl.metadata (18 kB)\n",
      "Requirement already satisfied: tenacity<9.0.0,>=8.2.0 in /Users/greatmaster/miniconda3/envs/oreilly_llama2/lib/python3.11/site-packages (from llama-index) (8.2.3)\n",
      "Collecting tiktoken>=0.3.3 (from llama-index)\n",
      "  Downloading tiktoken-0.5.1-cp311-cp311-macosx_11_0_arm64.whl.metadata (6.6 kB)\n",
      "Requirement already satisfied: typing-extensions>=4.5.0 in /Users/greatmaster/miniconda3/envs/oreilly_llama2/lib/python3.11/site-packages (from llama-index) (4.8.0)\n",
      "Requirement already satisfied: typing-inspect>=0.8.0 in /Users/greatmaster/miniconda3/envs/oreilly_llama2/lib/python3.11/site-packages (from llama-index) (0.9.0)\n",
      "Collecting urllib3<2 (from llama-index)\n",
      "  Downloading urllib3-1.26.18-py2.py3-none-any.whl.metadata (48 kB)\n",
      "\u001b[2K     \u001b[38;2;114;156;31m━━━━━━━━━━━━━━━━━━━━━━━━━━━━━━━━━━━━━━━━\u001b[0m \u001b[32m48.9/48.9 kB\u001b[0m \u001b[31m5.9 MB/s\u001b[0m eta \u001b[36m0:00:00\u001b[0m\n",
      "\u001b[?25hRequirement already satisfied: marshmallow<4.0.0,>=3.18.0 in /Users/greatmaster/miniconda3/envs/oreilly_llama2/lib/python3.11/site-packages (from dataclasses-json<0.6.0,>=0.5.7->llama-index) (3.20.1)\n",
      "Collecting wrapt<2,>=1.10 (from deprecated>=1.2.9.3->llama-index)\n",
      "  Downloading wrapt-1.15.0-cp311-cp311-macosx_11_0_arm64.whl (36 kB)\n",
      "Requirement already satisfied: PyYAML>=5.3 in /Users/greatmaster/miniconda3/envs/oreilly_llama2/lib/python3.11/site-packages (from langchain>=0.0.303->llama-index) (6.0.1)\n",
      "Requirement already satisfied: aiohttp<4.0.0,>=3.8.3 in /Users/greatmaster/miniconda3/envs/oreilly_llama2/lib/python3.11/site-packages (from langchain>=0.0.303->llama-index) (3.8.6)\n",
      "Requirement already satisfied: anyio<4.0 in /Users/greatmaster/miniconda3/envs/oreilly_llama2/lib/python3.11/site-packages (from langchain>=0.0.303->llama-index) (3.7.1)\n",
      "Requirement already satisfied: jsonpatch<2.0,>=1.33 in /Users/greatmaster/miniconda3/envs/oreilly_llama2/lib/python3.11/site-packages (from langchain>=0.0.303->llama-index) (1.33)\n",
      "Requirement already satisfied: langsmith<0.1.0,>=0.0.52 in /Users/greatmaster/miniconda3/envs/oreilly_llama2/lib/python3.11/site-packages (from langchain>=0.0.303->llama-index) (0.0.56)\n",
      "Requirement already satisfied: pydantic<3,>=1 in /Users/greatmaster/miniconda3/envs/oreilly_llama2/lib/python3.11/site-packages (from langchain>=0.0.303->llama-index) (2.4.2)\n",
      "Requirement already satisfied: requests<3,>=2 in /Users/greatmaster/miniconda3/envs/oreilly_llama2/lib/python3.11/site-packages (from langchain>=0.0.303->llama-index) (2.31.0)\n",
      "Collecting click (from nltk<4.0.0,>=3.8.1->llama-index)\n",
      "  Using cached click-8.1.7-py3-none-any.whl.metadata (3.0 kB)\n",
      "Collecting joblib (from nltk<4.0.0,>=3.8.1->llama-index)\n",
      "  Using cached joblib-1.3.2-py3-none-any.whl.metadata (5.4 kB)\n",
      "Requirement already satisfied: regex>=2021.8.3 in /Users/greatmaster/miniconda3/envs/oreilly_llama2/lib/python3.11/site-packages (from nltk<4.0.0,>=3.8.1->llama-index) (2023.10.3)\n",
      "Requirement already satisfied: tqdm in /Users/greatmaster/miniconda3/envs/oreilly_llama2/lib/python3.11/site-packages (from nltk<4.0.0,>=3.8.1->llama-index) (4.66.1)\n",
      "Collecting greenlet!=0.4.17 (from SQLAlchemy[asyncio]>=1.4.49->llama-index)\n",
      "  Downloading greenlet-3.0.1-cp311-cp311-macosx_10_9_universal2.whl.metadata (3.7 kB)\n",
      "Requirement already satisfied: mypy-extensions>=0.3.0 in /Users/greatmaster/miniconda3/envs/oreilly_llama2/lib/python3.11/site-packages (from typing-inspect>=0.8.0->llama-index) (1.0.0)\n",
      "Requirement already satisfied: python-dateutil>=2.8.2 in /Users/greatmaster/miniconda3/envs/oreilly_llama2/lib/python3.11/site-packages (from pandas->llama-index) (2.8.2)\n",
      "Collecting pytz>=2020.1 (from pandas->llama-index)\n",
      "  Using cached pytz-2023.3.post1-py2.py3-none-any.whl.metadata (22 kB)\n",
      "Collecting tzdata>=2022.1 (from pandas->llama-index)\n",
      "  Using cached tzdata-2023.3-py2.py3-none-any.whl (341 kB)\n",
      "Requirement already satisfied: attrs>=17.3.0 in /Users/greatmaster/miniconda3/envs/oreilly_llama2/lib/python3.11/site-packages (from aiohttp<4.0.0,>=3.8.3->langchain>=0.0.303->llama-index) (23.1.0)\n",
      "Requirement already satisfied: charset-normalizer<4.0,>=2.0 in /Users/greatmaster/miniconda3/envs/oreilly_llama2/lib/python3.11/site-packages (from aiohttp<4.0.0,>=3.8.3->langchain>=0.0.303->llama-index) (3.3.2)\n",
      "Requirement already satisfied: multidict<7.0,>=4.5 in /Users/greatmaster/miniconda3/envs/oreilly_llama2/lib/python3.11/site-packages (from aiohttp<4.0.0,>=3.8.3->langchain>=0.0.303->llama-index) (6.0.4)\n",
      "Requirement already satisfied: async-timeout<5.0,>=4.0.0a3 in /Users/greatmaster/miniconda3/envs/oreilly_llama2/lib/python3.11/site-packages (from aiohttp<4.0.0,>=3.8.3->langchain>=0.0.303->llama-index) (4.0.3)\n",
      "Requirement already satisfied: yarl<2.0,>=1.0 in /Users/greatmaster/miniconda3/envs/oreilly_llama2/lib/python3.11/site-packages (from aiohttp<4.0.0,>=3.8.3->langchain>=0.0.303->llama-index) (1.9.2)\n",
      "Requirement already satisfied: frozenlist>=1.1.1 in /Users/greatmaster/miniconda3/envs/oreilly_llama2/lib/python3.11/site-packages (from aiohttp<4.0.0,>=3.8.3->langchain>=0.0.303->llama-index) (1.4.0)\n",
      "Requirement already satisfied: aiosignal>=1.1.2 in /Users/greatmaster/miniconda3/envs/oreilly_llama2/lib/python3.11/site-packages (from aiohttp<4.0.0,>=3.8.3->langchain>=0.0.303->llama-index) (1.3.1)\n",
      "Requirement already satisfied: idna>=2.8 in /Users/greatmaster/miniconda3/envs/oreilly_llama2/lib/python3.11/site-packages (from anyio<4.0->langchain>=0.0.303->llama-index) (3.4)\n",
      "Requirement already satisfied: sniffio>=1.1 in /Users/greatmaster/miniconda3/envs/oreilly_llama2/lib/python3.11/site-packages (from anyio<4.0->langchain>=0.0.303->llama-index) (1.3.0)\n",
      "Requirement already satisfied: jsonpointer>=1.9 in /Users/greatmaster/miniconda3/envs/oreilly_llama2/lib/python3.11/site-packages (from jsonpatch<2.0,>=1.33->langchain>=0.0.303->llama-index) (2.4)\n",
      "Requirement already satisfied: packaging>=17.0 in /Users/greatmaster/miniconda3/envs/oreilly_llama2/lib/python3.11/site-packages (from marshmallow<4.0.0,>=3.18.0->dataclasses-json<0.6.0,>=0.5.7->llama-index) (23.2)\n",
      "Requirement already satisfied: annotated-types>=0.4.0 in /Users/greatmaster/miniconda3/envs/oreilly_llama2/lib/python3.11/site-packages (from pydantic<3,>=1->langchain>=0.0.303->llama-index) (0.6.0)\n",
      "Requirement already satisfied: pydantic-core==2.10.1 in /Users/greatmaster/miniconda3/envs/oreilly_llama2/lib/python3.11/site-packages (from pydantic<3,>=1->langchain>=0.0.303->llama-index) (2.10.1)\n",
      "Requirement already satisfied: six>=1.5 in /Users/greatmaster/miniconda3/envs/oreilly_llama2/lib/python3.11/site-packages (from python-dateutil>=2.8.2->pandas->llama-index) (1.16.0)\n",
      "Requirement already satisfied: certifi>=2017.4.17 in /Users/greatmaster/miniconda3/envs/oreilly_llama2/lib/python3.11/site-packages (from requests<3,>=2->langchain>=0.0.303->llama-index) (2023.7.22)\n",
      "Downloading llama_index-0.8.56-py3-none-any.whl (801 kB)\n",
      "\u001b[2K   \u001b[38;2;114;156;31m━━━━━━━━━━━━━━━━━━━━━━━━━━━━━━━━━━━━━━━━\u001b[0m \u001b[32m801.3/801.3 kB\u001b[0m \u001b[31m54.2 MB/s\u001b[0m eta \u001b[36m0:00:00\u001b[0m\n",
      "\u001b[?25hDownloading aiostream-0.5.2-py3-none-any.whl (39 kB)\n",
      "Downloading dataclasses_json-0.5.14-py3-none-any.whl (26 kB)\n",
      "Downloading Deprecated-1.2.14-py2.py3-none-any.whl (9.6 kB)\n",
      "Using cached openai-0.28.1-py3-none-any.whl (76 kB)\n",
      "Downloading tiktoken-0.5.1-cp311-cp311-macosx_11_0_arm64.whl (924 kB)\n",
      "\u001b[2K   \u001b[38;2;114;156;31m━━━━━━━━━━━━━━━━━━━━━━━━━━━━━━━━━━━━━━━━\u001b[0m \u001b[32m924.4/924.4 kB\u001b[0m \u001b[31m48.9 MB/s\u001b[0m eta \u001b[36m0:00:00\u001b[0m\n",
      "\u001b[?25hDownloading urllib3-1.26.18-py2.py3-none-any.whl (143 kB)\n",
      "\u001b[2K   \u001b[38;2;114;156;31m━━━━━━━━━━━━━━━━━━━━━━━━━━━━━━━━━━━━━━━━\u001b[0m \u001b[32m143.8/143.8 kB\u001b[0m \u001b[31m16.6 MB/s\u001b[0m eta \u001b[36m0:00:00\u001b[0m\n",
      "\u001b[?25hDownloading pandas-2.1.2-cp311-cp311-macosx_11_0_arm64.whl (10.8 MB)\n",
      "\u001b[2K   \u001b[38;2;114;156;31m━━━━━━━━━━━━━━━━━━━━━━━━━━━━━━━━━━━━━━━━\u001b[0m \u001b[32m10.8/10.8 MB\u001b[0m \u001b[31m51.3 MB/s\u001b[0m eta \u001b[36m0:00:00\u001b[0m31m57.2 MB/s\u001b[0m eta \u001b[36m0:00:01\u001b[0m\n",
      "\u001b[?25hDownloading greenlet-3.0.1-cp311-cp311-macosx_10_9_universal2.whl (263 kB)\n",
      "\u001b[2K   \u001b[38;2;114;156;31m━━━━━━━━━━━━━━━━━━━━━━━━━━━━━━━━━━━━━━━━\u001b[0m \u001b[32m263.1/263.1 kB\u001b[0m \u001b[31m27.9 MB/s\u001b[0m eta \u001b[36m0:00:00\u001b[0m\n",
      "\u001b[?25hUsing cached pytz-2023.3.post1-py2.py3-none-any.whl (502 kB)\n",
      "Using cached click-8.1.7-py3-none-any.whl (97 kB)\n",
      "Using cached joblib-1.3.2-py3-none-any.whl (302 kB)\n",
      "Installing collected packages: pytz, wrapt, urllib3, tzdata, joblib, greenlet, click, aiostream, pandas, nltk, deprecated, dataclasses-json, tiktoken, openai, llama-index\n",
      "  Attempting uninstall: urllib3\n",
      "    Found existing installation: urllib3 2.0.7\n",
      "    Uninstalling urllib3-2.0.7:\n",
      "      Successfully uninstalled urllib3-2.0.7\n",
      "  Attempting uninstall: dataclasses-json\n",
      "    Found existing installation: dataclasses-json 0.6.1\n",
      "    Uninstalling dataclasses-json-0.6.1:\n",
      "      Successfully uninstalled dataclasses-json-0.6.1\n",
      "Successfully installed aiostream-0.5.2 click-8.1.7 dataclasses-json-0.5.14 deprecated-1.2.14 greenlet-3.0.1 joblib-1.3.2 llama-index-0.8.56 nltk-3.8.1 openai-0.28.1 pandas-2.1.2 pytz-2023.3.post1 tiktoken-0.5.1 tzdata-2023.3 urllib3-1.26.18 wrapt-1.15.0\n"
     ]
    }
   ],
   "source": [
    "!pip install llama-index"
   ]
  },
  {
   "cell_type": "code",
   "execution_count": 6,
   "metadata": {},
   "outputs": [
    {
     "name": "stdout",
     "output_type": "stream",
     "text": [
      " In statistics, a probability distribution is a mathematical function that describes the probability of each possible value of a random variable occurring. Hinweis: A random variable is a variable whose possible values are determined by chance or random events.\n",
      "\n",
      "Probability distributions are used to model and analyze real-world phenomena that involve uncertainty, such as the outcome of an experiment, the return on an investment, or the spread of disease. The probability distribution defines the probability of each possible value of the random variable occurring, and it is typically represented graphically using a histogram or density function.\n",
      "\n",
      "There are many different types of probability distributions, including:\n",
      "\n",
      "1. Uniform distribution: A probability distribution where every possible value has an equal chance of occurring.\n",
      "2. Normal distribution (Gaussian distribution): A probability distribution that is bell-shaped and characterized by its mean and standard deviation.\n",
      "3. Binomial distribution: A probability distribution used to model the number of successes in a fixed number of independent trials, where each trial has a certain probability of success.\n",
      "4. Poisson distribution: A probability distribution used to model the number of events that occur within a fixed time period or space, where each event has an equal chance of occurring.\n",
      "5. Exponential distribution: A probability distribution where the rate at which events occur is constant over time.\n",
      "6. Chi-squared distribution: A probability distribution used to model the number of observations in a group that are within a certain range of a mean value, where each observation has an equal chance of occurring.\n",
      "7. Factorial distribution: A probability distribution used to model the number of ways in which a set of events can occur, where each event has an equal chance of occurring.\n",
      "8. Negative binomial distribution: A probability distribution used to model the number of failures before a fixed number of successes occur in a sequence of independent trials, where each trial has a certain probability of success.\n",
      "9. Geometric distribution: A probability distribution used to model the number of trials that are needed to achieve a certain outcome, where each trial has an equal chance of resulting in the desired outcome.\n",
      "10. Hypergeometric distribution: A probability distribution used to model the number of elements that fall into a certain category in a larger set, where each element has an equal chance of falling into any of the categories.\n",
      "\n",
      "Probability distributions are used in many fields, including finance, engineering, computer science, and medicine, to name a few. They are essential for making predictions and quantifying uncertainty in a wide range of applications, such as:\n",
      "\n",
      "1. Risk analysis: Probability distributions can be used to model the likelihood of different outcomes in a risk assessment, such as the probability of a stock portfolio losing value or the probability of a medical treatment being effective.\n",
      "2. Machine learning: Probability distributions are used in machine learning algorithms to model the uncertainty of predictions and to optimize the performance of models.\n",
      "3. Signal processing: Probability distributions can be used to model the statistics of signals, such as the probability of detecting a signal in noise or the probability of a signal being corrupted.\n",
      "4. Quality control: Probability distributions can be used to model the likelihood of defects in a manufacturing process and to design quality control procedures that minimize the risk of defects.\n",
      "5. Financial modeling: Probability distributions are used in financial modeling to quantify the uncertainty of investment returns and to make informed decisions about investments.\n",
      "6. Epidemiology: Probability distributions can be used to model the spread of diseases and to predict the likelihood of different outcomes, such as the probability of a patient recovering from an illness or the probability of a disease spreading through a population.\n",
      "7. Engineers: Probability distributions are used in engineering to model the uncertainty of systems and to design systems that are robust to uncertainties.\n",
      "8. Computer Science: Probability distributions are used in computer science to model the uncertainty of algorithms and to make informed decisions about the design of algorithms.\n",
      "9. Medical Research: Probability distributions can be used to model the uncertainty of medical outcomes, such as the probability of a patient recovering from an illness or the probability of a treatment being effective.\n",
      "10. Insurance: Probability distributions are used in insurance to quantify the uncertainty of losses and to make informed decisions about premiums and risk assessment.\n"
     ]
    }
   ],
   "source": [
    "# source: https://gpt-index.readthedocs.io/en/stable/examples/llm/ollama.html\n",
    "from llama_index.llms import Ollama\n",
    "\n",
    "llm = Ollama(model=\"llama2\")\n",
    "\n",
    "resp = llm.complete(\"What is a probability distribution?\")\n",
    "\n",
    "print(resp)"
   ]
  },
  {
   "cell_type": "code",
   "execution_count": 7,
   "metadata": {},
   "outputs": [
    {
     "name": "stdout",
     "output_type": "stream",
     "text": [
      "assistant:  Great question! Computational thinking is a problem-solving approach that involves breaking down complex problems into smaller, manageable parts and analyzing them using algorithms and data structures. It's a way of thinking about how to solve problems using computers and technology.\n",
      "\n",
      "Learning to think with sketches can be a fun and creative way to develop your computational thinking skills. Sketching involves creating simple drawings or diagrams to represent complex ideas or systems. By using sketches, you can visualize and communicate your thoughts more effectively, and solve problems in a more innovative and efficient manner.\n",
      "\n",
      "Here are some ways to learn to think with sketches:\n",
      "\n",
      "1. Start simple: Begin by sketching simple diagrams or drawings to represent basic concepts, such as flowcharts or Venn diagrams. As you become more comfortable, move on to more complex ideas.\n",
      "2. Practice regularly: Make sketching a regular part of your daily routine. Set aside some time each day to practice and experiment with different techniques and styles.\n",
      "3. Observe and analyze: Observe the world around you and try to identify patterns and relationships. Use these observations to create sketches that represent the concepts or systems you are studying.\n",
      "4. Collaborate with others: Work with others to brainstorm and solve problems. By sharing ideas and sketches, you can build upon each other's perspectives and come up with more innovative solutions.\n",
      "5. Use technology: There are many digital tools available that can help you create sketches and diagrams, such as drawing software or online diagramming tools. Experiment with different tools to find what works best for you.\n",
      "6. Learn from others: Study the work of other artists and designers who use sketching as a tool for problem-solving. Analyze their techniques and see how they approach complex problems.\n",
      "7. Join a community: Look for online communities or local groups that share your interest in sketching and computational thinking. Collaborate with others and learn from their experiences and approaches.\n",
      "\n",
      "By following these steps, you can develop your skills in thinking with sketches and improve your ability to solve complex problems using computational thinking. Good luck!\n"
     ]
    }
   ],
   "source": [
    "# source: https://gpt-index.readthedocs.io/en/stable/examples/llm/ollama.html\n",
    "# Call chat with a list of messages in llama-index\n",
    "\n",
    "from llama_index.llms import ChatMessage\n",
    "\n",
    "messages = [\n",
    "    ChatMessage(\n",
    "        role=\"system\", content=\"How can one learn to think with sketches?\"\n",
    "    ),\n",
    "    ChatMessage(\n",
    "        role=\"user\", content=\"What is computational thinking?\"),\n",
    "]\n",
    "resp = llm.chat(messages)\n",
    "print(resp)"
   ]
  },
  {
   "cell_type": "markdown",
   "metadata": {},
   "source": [
    "[Ollama github](https://github.com/jmorganca/ollama)"
   ]
  }
 ],
 "metadata": {
  "kernelspec": {
   "display_name": "oreilly_llama2",
   "language": "python",
   "name": "oreilly_llama2"
  },
  "language_info": {
   "codemirror_mode": {
    "name": "ipython",
    "version": 3
   },
   "file_extension": ".py",
   "mimetype": "text/x-python",
   "name": "python",
   "nbconvert_exporter": "python",
   "pygments_lexer": "ipython3",
   "version": "3.11.5"
  }
 },
 "nbformat": 4,
 "nbformat_minor": 2
}
