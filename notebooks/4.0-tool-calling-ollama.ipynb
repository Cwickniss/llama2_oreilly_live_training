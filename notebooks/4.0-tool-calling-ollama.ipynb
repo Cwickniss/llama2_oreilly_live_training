{
 "cells": [
  {
   "cell_type": "code",
   "execution_count": null,
   "metadata": {},
   "outputs": [],
   "source": [
    "!pip install -U ollama openai"
   ]
  },
  {
   "cell_type": "code",
   "execution_count": 8,
   "metadata": {},
   "outputs": [
    {
     "name": "stdout",
     "output_type": "stream",
     "text": [
      "{'model': 'llama3.1', 'created_at': '2024-08-08T19:37:35.601673Z', 'message': {'role': 'assistant', 'content': '', 'tool_calls': [{'function': {'name': 'get_current_weather', 'arguments': {'city': 'Sydney'}}}]}, 'done_reason': 'stop', 'done': True, 'total_duration': 506455291, 'load_duration': 23804625, 'prompt_eval_count': 160, 'prompt_eval_duration': 174980000, 'eval_count': 19, 'eval_duration': 303868000}\n"
     ]
    }
   ],
   "source": [
    "import ollama\n",
    "\n",
    "def get_current_weather(city):\n",
    "    \"\"\"\n",
    "    Get the current weather for a city.\n",
    "\n",
    "    Parameters:\n",
    "    city (str): The name of the city.\n",
    "\n",
    "    Returns:\n",
    "    str: The current temperature in the specified city.\n",
    "    \"\"\"\n",
    "    return f\"The current temperature in {city} is sunny\"\n",
    "\n",
    "response = ollama.chat(\n",
    "    # model=\"\"\n",
    "    model=\"llama3.1\",\n",
    "    messages=[\n",
    "        {'role': 'system', 'content': 'You are a helpful assistant \\\n",
    "            that helps users with information. When users ask about\\\n",
    "                the weather you use the get_current_weather tool to\\\n",
    "                    answer.'},\n",
    "        {'role': 'user', 'content': 'What is the weather in Sydney?'}],\n",
    "    tools=[{\n",
    "        'type': 'function',\n",
    "        'name': 'get_current_weather',\n",
    "        'description': 'Get the current weather for a city, the input param is city.',\n",
    "        'parameters': {\n",
    "            'type': 'object',\n",
    "            'properties': {\n",
    "                'city': {\n",
    "                    'type': 'string',\n",
    "                    'description': 'The name of the city',\n",
    "                    'required': ['city']\n",
    "                }\n",
    "            }\n",
    "        }\n",
    "    }]\n",
    ")\n",
    "\n",
    "print(response)"
   ]
  },
  {
   "cell_type": "code",
   "execution_count": 9,
   "metadata": {},
   "outputs": [
    {
     "data": {
      "text/plain": [
       "{'model': 'llama3.1',\n",
       " 'created_at': '2024-08-08T19:37:35.601673Z',\n",
       " 'message': {'role': 'assistant',\n",
       "  'content': '',\n",
       "  'tool_calls': [{'function': {'name': 'get_current_weather',\n",
       "     'arguments': {'city': 'Sydney'}}}]},\n",
       " 'done_reason': 'stop',\n",
       " 'done': True,\n",
       " 'total_duration': 506455291,\n",
       " 'load_duration': 23804625,\n",
       " 'prompt_eval_count': 160,\n",
       " 'prompt_eval_duration': 174980000,\n",
       " 'eval_count': 19,\n",
       " 'eval_duration': 303868000}"
      ]
     },
     "execution_count": 9,
     "metadata": {},
     "output_type": "execute_result"
    }
   ],
   "source": [
    "response"
   ]
  },
  {
   "cell_type": "code",
   "execution_count": 11,
   "metadata": {},
   "outputs": [
    {
     "data": {
      "text/plain": [
       "[{'function': {'name': 'get_current_weather',\n",
       "   'arguments': {'city': 'Sydney'}}}]"
      ]
     },
     "execution_count": 11,
     "metadata": {},
     "output_type": "execute_result"
    }
   ],
   "source": [
    "response['message']['tool_calls']"
   ]
  },
  {
   "cell_type": "code",
   "execution_count": 12,
   "metadata": {},
   "outputs": [
    {
     "name": "stdout",
     "output_type": "stream",
     "text": [
      "The current temperature in Sydney is sunny\n"
     ]
    }
   ],
   "source": [
    "def run_tool_calls(response):\n",
    "    tool_calls = response['message']['tool_calls']\n",
    "    for tool_call in tool_calls:\n",
    "        function_name = tool_call['function']['name']\n",
    "        arguments = tool_call['function']['arguments']\n",
    "        if function_name == 'get_current_weather':\n",
    "            city = arguments['city']\n",
    "            temperature = get_current_weather(city)\n",
    "            print(temperature)\n",
    "\n",
    "run_tool_calls(response)"
   ]
  },
  {
   "cell_type": "markdown",
   "metadata": {},
   "source": [
    "# Using OpenAI API + Ollama"
   ]
  },
  {
   "cell_type": "code",
   "execution_count": 13,
   "metadata": {},
   "outputs": [],
   "source": [
    "from openai import OpenAI\n",
    "\n",
    "client = OpenAI(\n",
    "    base_url = 'http://localhost:11434/v1',\n",
    "    api_key='ollama', # required, but unused\n",
    ")"
   ]
  },
  {
   "cell_type": "code",
   "execution_count": 14,
   "metadata": {},
   "outputs": [],
   "source": [
    "def check_weather(city: str) -> str:\n",
    "    \"\"\"Function that checks the weather.\"\"\"\n",
    "    return \"It's sunny in \" + city"
   ]
  },
  {
   "cell_type": "code",
   "execution_count": 15,
   "metadata": {},
   "outputs": [],
   "source": [
    "messages = [\n",
    "    {\"role\": \"system\", \"content\": \"You are a helpful assistant.\"},\n",
    "    {\"role\": \"user\", \"content\": \"What's the weather in San Francisco?\"}\n",
    "]"
   ]
  },
  {
   "cell_type": "code",
   "execution_count": 16,
   "metadata": {},
   "outputs": [
    {
     "name": "stdout",
     "output_type": "stream",
     "text": [
      "ChatCompletion(id='chatcmpl-33', choices=[Choice(finish_reason='tool_calls', index=0, logprobs=None, message=ChatCompletionMessage(content='', refusal=None, role='assistant', function_call=None, tool_calls=[ChatCompletionMessageToolCall(id='call_lyov316b', function=Function(arguments='{\"city\":\"San Francisco\"}', name='check_weather'), type='function')]))], created=1723146140, model='llama3.1', object='chat.completion', service_tier=None, system_fingerprint='fp_ollama', usage=CompletionUsage(completion_tokens=18, prompt_tokens=169, total_tokens=187))\n"
     ]
    }
   ],
   "source": [
    "tools = [\n",
    "    {\n",
    "        \"type\": \"function\",\n",
    "        \"function\": {\n",
    "            \"name\": \"check_weather\",\n",
    "            \"description\": \"Get the current weather for a given city.\",\n",
    "            \"parameters\": {\n",
    "                \"type\": \"object\",\n",
    "                \"properties\": {\n",
    "                    \"city\": {\n",
    "                        \"type\": \"string\",\n",
    "                        \"description\": \"The city, e.g. San Francisco, CA\",\n",
    "                    },\n",
    "                },\n",
    "                \"required\": [\"city\"],\n",
    "            },\n",
    "        }\n",
    "    },]\n",
    "\n",
    "\n",
    "\n",
    "response = client.chat.completions.create(model=\"llama3.1\", messages=messages, tools=tools)\n",
    "\n",
    "print(response)"
   ]
  },
  {
   "cell_type": "code",
   "execution_count": 17,
   "metadata": {},
   "outputs": [
    {
     "data": {
      "text/plain": [
       "ChatCompletion(id='chatcmpl-33', choices=[Choice(finish_reason='tool_calls', index=0, logprobs=None, message=ChatCompletionMessage(content='', refusal=None, role='assistant', function_call=None, tool_calls=[ChatCompletionMessageToolCall(id='call_lyov316b', function=Function(arguments='{\"city\":\"San Francisco\"}', name='check_weather'), type='function')]))], created=1723146140, model='llama3.1', object='chat.completion', service_tier=None, system_fingerprint='fp_ollama', usage=CompletionUsage(completion_tokens=18, prompt_tokens=169, total_tokens=187))"
      ]
     },
     "execution_count": 17,
     "metadata": {},
     "output_type": "execute_result"
    }
   ],
   "source": [
    "response"
   ]
  },
  {
   "cell_type": "code",
   "execution_count": 24,
   "metadata": {},
   "outputs": [
    {
     "data": {
      "text/plain": [
       "'{\"city\":\"San Francisco\"}'"
      ]
     },
     "execution_count": 24,
     "metadata": {},
     "output_type": "execute_result"
    }
   ],
   "source": [
    "response.choices[0].message.tool_calls[0].function.arguments"
   ]
  }
 ],
 "metadata": {
  "kernelspec": {
   "display_name": "oreilly-llama3",
   "language": "python",
   "name": "oreilly-llama3"
  },
  "language_info": {
   "codemirror_mode": {
    "name": "ipython",
    "version": 3
   },
   "file_extension": ".py",
   "mimetype": "text/x-python",
   "name": "python",
   "nbconvert_exporter": "python",
   "pygments_lexer": "ipython3",
   "version": "3.10.14"
  }
 },
 "nbformat": 4,
 "nbformat_minor": 2
}
