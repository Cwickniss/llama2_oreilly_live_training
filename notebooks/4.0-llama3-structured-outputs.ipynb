{
 "cells": [
  {
   "cell_type": "markdown",
   "metadata": {},
   "source": [
    "# Getting Json Outputs from Llama3 using LangChain "
   ]
  },
  {
   "cell_type": "code",
   "execution_count": 1,
   "metadata": {},
   "outputs": [],
   "source": [
    "import json\n",
    "from langchain_community.chat_models import ChatOllama\n",
    "from langchain_core.messages import HumanMessage\n",
    "from langchain_core.output_parsers import StrOutputParser, JsonOutputParser\n",
    "from langchain_core.prompts import ChatPromptTemplate"
   ]
  },
  {
   "cell_type": "code",
   "execution_count": 2,
   "metadata": {},
   "outputs": [],
   "source": [
    "json_schema = {\n",
    "    \"title\": \"Person\",\n",
    "    \"description\": \"Identifying information about a person.\",\n",
    "    \"type\": \"object\",\n",
    "    \"properties\": {\n",
    "    \"name\": {\"title\": \"Name\", \"description\": \"The person's name\", \"type\": \"string\"},\n",
    "    \"age\": {\"title\": \"Age\", \"description\": \"The person's age\", \"type\": \"integer\"},\n",
    "    \"fav_food\": {\n",
    "    \"title\": \"Fav Food\",\n",
    "    \"description\": \"The person's favorite food\",\n",
    "    \"type\": \"string\",\n",
    "    \"required\": [\"name\", \"age\"], }\n",
    "    }\n",
    "}"
   ]
  },
  {
   "cell_type": "code",
   "execution_count": 5,
   "metadata": {},
   "outputs": [],
   "source": [
    "# keep the model loaded indefinitely temperature=0.1,\n",
    "llm = ChatOllama(model=\"llama3\", format=\"json\", keep_alive=-1, max_new_tokens=512)\n",
    "\n",
    "messages = [\n",
    "HumanMessage (content=\"Please tell me about a person using the following JSON schema:\"),\n",
    "HumanMessage (content=\"{schema}\"),\n",
    "HumanMessage (content=\"Now, considering the schema, tell me about a person named Lucas who is 17 years old and loves pizza & pancakes.\"),\n",
    "]"
   ]
  },
  {
   "cell_type": "code",
   "execution_count": 6,
   "metadata": {},
   "outputs": [],
   "source": [
    "prompt = ChatPromptTemplate.from_messages(messages)"
   ]
  },
  {
   "cell_type": "code",
   "execution_count": 7,
   "metadata": {},
   "outputs": [
    {
     "data": {
      "text/plain": [
       "ChatPromptTemplate(input_variables=[], messages=[HumanMessage(content='Please tell me about a person using the following JSON schema:'), HumanMessage(content='{schema}'), HumanMessage(content='Now, considering the schema, tell me about a person named Lucas who is 17 years old and loves pizza & pancakes.')])"
      ]
     },
     "execution_count": 7,
     "metadata": {},
     "output_type": "execute_result"
    }
   ],
   "source": [
    "prompt"
   ]
  },
  {
   "cell_type": "code",
   "execution_count": 8,
   "metadata": {},
   "outputs": [],
   "source": [
    "# converting json schema to a string\n",
    "dumps = json.dumps(json_schema, indent=2)"
   ]
  },
  {
   "cell_type": "code",
   "execution_count": 9,
   "metadata": {},
   "outputs": [],
   "source": [
    "chain = prompt | llm | JsonOutputParser()"
   ]
  },
  {
   "cell_type": "code",
   "execution_count": 10,
   "metadata": {},
   "outputs": [],
   "source": [
    "response = chain.invoke({\"schema\": dumps})"
   ]
  },
  {
   "cell_type": "code",
   "execution_count": 11,
   "metadata": {},
   "outputs": [
    {
     "name": "stdout",
     "output_type": "stream",
     "text": [
      "{'name': 'Lucas', 'age': 17, 'interests': ['pizza', 'pancakes']}\n",
      "<class 'dict'>\n"
     ]
    }
   ],
   "source": [
    "print(response)\n",
    "print(type(response))"
   ]
  },
  {
   "cell_type": "markdown",
   "metadata": {},
   "source": [
    "We can turn this structured output functionality into a function calling pipeline."
   ]
  },
  {
   "cell_type": "code",
   "execution_count": 12,
   "metadata": {},
   "outputs": [
    {
     "name": "stdout",
     "output_type": "stream",
     "text": [
      "name: Lucas\n",
      "age: 17\n",
      "interests: ['pizza', 'pancakes']\n"
     ]
    }
   ],
   "source": [
    "def some_tool_that_prints_info_from_dict(json_dict):\n",
    "    for key in json_dict.keys():\n",
    "        print(f\"{key}: {json_dict[key]}\")\n",
    "\n",
    "some_tool_that_prints_info_from_dict(response)"
   ]
  }
 ],
 "metadata": {
  "kernelspec": {
   "display_name": "oreilly-llama3",
   "language": "python",
   "name": "oreilly-llama3"
  },
  "language_info": {
   "codemirror_mode": {
    "name": "ipython",
    "version": 3
   },
   "file_extension": ".py",
   "mimetype": "text/x-python",
   "name": "python",
   "nbconvert_exporter": "python",
   "pygments_lexer": "ipython3",
   "version": "3.10.14"
  }
 },
 "nbformat": 4,
 "nbformat_minor": 2
}
